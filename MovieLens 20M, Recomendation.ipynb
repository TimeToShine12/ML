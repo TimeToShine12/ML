{
 "cells": [
  {
   "cell_type": "markdown",
   "id": "687ed19f",
   "metadata": {},
   "source": [
    "# https://www.kaggle.com/datasets/grouplens/movielens-20m-dataset"
   ]
  },
  {
   "cell_type": "code",
   "execution_count": 1,
   "id": "8d52b16e",
   "metadata": {},
   "outputs": [],
   "source": [
    "import pandas as pd\n",
    "import numpy as np\n",
    "\n",
    "from scipy.sparse import csr_matrix\n",
    "\n",
    "from sklearn.neighbors import NearestNeighbors\n",
    "\n",
    "from pandas.api.types import CategoricalDtype"
   ]
  },
  {
   "cell_type": "markdown",
   "id": "67acdf8e",
   "metadata": {},
   "source": [
    "# **Preparing dataset**"
   ]
  },
  {
   "cell_type": "code",
   "execution_count": 2,
   "id": "9cbffe67",
   "metadata": {},
   "outputs": [],
   "source": [
    "# import movie.csv and rating.csv\n",
    "movies = pd.read_csv('movie.csv')\n",
    "ratings = pd.read_csv('rating.csv')"
   ]
  },
  {
   "cell_type": "code",
   "execution_count": 3,
   "id": "42793d82",
   "metadata": {},
   "outputs": [
    {
     "data": {
      "text/plain": [
       "((20000263, 4), (27278, 3))"
      ]
     },
     "execution_count": 3,
     "metadata": {},
     "output_type": "execute_result"
    }
   ],
   "source": [
    "ratings.shape, movies.shape"
   ]
  },
  {
   "cell_type": "code",
   "execution_count": 4,
   "id": "fcb2f0d4",
   "metadata": {},
   "outputs": [
    {
     "name": "stdout",
     "output_type": "stream",
     "text": [
      "Index(['movieId', 'title', 'genres'], dtype='object')\n",
      "Index(['userId', 'movieId', 'rating', 'timestamp'], dtype='object')\n"
     ]
    }
   ],
   "source": [
    "print(movies.columns)\n",
    "print(ratings.columns)"
   ]
  },
  {
   "cell_type": "code",
   "execution_count": 5,
   "id": "2a3ad936",
   "metadata": {},
   "outputs": [],
   "source": [
    "# drop column 'genres' from movies and 'timestamp' from ratings\n",
    "movies = movies.drop('genres', axis=1)\n",
    "ratings = ratings.drop('timestamp', axis=1)"
   ]
  },
  {
   "cell_type": "code",
   "execution_count": 6,
   "id": "12c9d8a1",
   "metadata": {},
   "outputs": [],
   "source": [
    "# create pivot table where index = movieId, columns = userId, values = ratings\n",
    "# use '0' instead of NaN\n",
    "rcLabel, vLabel = ('movieId', 'userId'), 'rating'\n",
    "rcCat = [CategoricalDtype(sorted(ratings[col].unique()), ordered=True) for col in rcLabel]\n",
    "rc = [ratings[column].astype(aType).cat.codes for column, aType in zip(rcLabel, rcCat)]\n",
    "mat = csr_matrix((ratings[vLabel], rc), shape=tuple(cat.categories.size for cat in rcCat))\n",
    "dfPivot = ( pd.DataFrame.sparse.from_spmatrix(\n",
    "    mat, index=rcCat[0].categories, columns=rcCat[1].categories) )"
   ]
  },
  {
   "cell_type": "markdown",
   "id": "19267ad3",
   "metadata": {},
   "source": [
    "# **Filtering**"
   ]
  },
  {
   "cell_type": "code",
   "execution_count": 7,
   "id": "44dc37a1",
   "metadata": {},
   "outputs": [],
   "source": [
    "# count how many rating make each user(groupby userId) \n",
    "users_votes = ratings.groupby('userId')['rating'].agg('count')\n",
    " \n",
    "# count how much rating each movie has(groupby movieId) \n",
    "movies_votes = ratings.groupby('movieId')['rating'].agg('count')\n",
    " \n",
    "# make filtering mask and use them\n",
    "user_votes_mask = users_votes[users_votes > 50].index\n",
    "movie_votes_mask = movies_votes[movies_votes > 10].index\n",
    " \n",
    "dfPivot = dfPivot.loc[movie_votes_mask,:]\n",
    "dfPivot = dfPivot.loc[:,user_votes_mask]"
   ]
  },
  {
   "cell_type": "code",
   "execution_count": 8,
   "id": "991a8b5a",
   "metadata": {},
   "outputs": [
    {
     "data": {
      "text/plain": [
       "(15079, 84056)"
      ]
     },
     "execution_count": 8,
     "metadata": {},
     "output_type": "execute_result"
    }
   ],
   "source": [
    "# matrix shape after filtration\n",
    "dfPivot.shape"
   ]
  },
  {
   "cell_type": "code",
   "execution_count": 9,
   "id": "8b69da44",
   "metadata": {},
   "outputs": [],
   "source": [
    "# make csr matrix(compressed sparse row)\n",
    "# att. values transfers to csr_matrix func only DataFrame values\n",
    "csr_data = csr_matrix(dfPivot.values)"
   ]
  },
  {
   "cell_type": "code",
   "execution_count": 10,
   "id": "6cd920ad",
   "metadata": {},
   "outputs": [
    {
     "data": {
      "text/html": [
       "<div>\n",
       "<style scoped>\n",
       "    .dataframe tbody tr th:only-of-type {\n",
       "        vertical-align: middle;\n",
       "    }\n",
       "\n",
       "    .dataframe tbody tr th {\n",
       "        vertical-align: top;\n",
       "    }\n",
       "\n",
       "    .dataframe thead th {\n",
       "        text-align: right;\n",
       "    }\n",
       "</style>\n",
       "<table border=\"1\" class=\"dataframe\">\n",
       "  <thead>\n",
       "    <tr style=\"text-align: right;\">\n",
       "      <th></th>\n",
       "      <th>movieId</th>\n",
       "      <th>1</th>\n",
       "      <th>2</th>\n",
       "      <th>3</th>\n",
       "      <th>5</th>\n",
       "      <th>7</th>\n",
       "      <th>8</th>\n",
       "      <th>11</th>\n",
       "      <th>13</th>\n",
       "      <th>14</th>\n",
       "      <th>...</th>\n",
       "      <th>138474</th>\n",
       "      <th>138475</th>\n",
       "      <th>138477</th>\n",
       "      <th>138483</th>\n",
       "      <th>138484</th>\n",
       "      <th>138486</th>\n",
       "      <th>138487</th>\n",
       "      <th>138490</th>\n",
       "      <th>138492</th>\n",
       "      <th>138493</th>\n",
       "    </tr>\n",
       "  </thead>\n",
       "  <tbody>\n",
       "    <tr>\n",
       "      <th>0</th>\n",
       "      <td>1</td>\n",
       "      <td>0.0</td>\n",
       "      <td>0.0</td>\n",
       "      <td>4.0</td>\n",
       "      <td>0.0</td>\n",
       "      <td>0.0</td>\n",
       "      <td>4.0</td>\n",
       "      <td>4.5</td>\n",
       "      <td>4.0</td>\n",
       "      <td>4.5</td>\n",
       "      <td>...</td>\n",
       "      <td>5.0</td>\n",
       "      <td>0.0</td>\n",
       "      <td>3.0</td>\n",
       "      <td>4.0</td>\n",
       "      <td>0.0</td>\n",
       "      <td>5.0</td>\n",
       "      <td>0.0</td>\n",
       "      <td>0.0</td>\n",
       "      <td>0.0</td>\n",
       "      <td>3.5</td>\n",
       "    </tr>\n",
       "    <tr>\n",
       "      <th>1</th>\n",
       "      <td>2</td>\n",
       "      <td>3.5</td>\n",
       "      <td>0.0</td>\n",
       "      <td>0.0</td>\n",
       "      <td>3.0</td>\n",
       "      <td>0.0</td>\n",
       "      <td>0.0</td>\n",
       "      <td>0.0</td>\n",
       "      <td>3.0</td>\n",
       "      <td>0.0</td>\n",
       "      <td>...</td>\n",
       "      <td>4.0</td>\n",
       "      <td>0.0</td>\n",
       "      <td>0.0</td>\n",
       "      <td>3.0</td>\n",
       "      <td>3.0</td>\n",
       "      <td>0.0</td>\n",
       "      <td>0.0</td>\n",
       "      <td>0.0</td>\n",
       "      <td>0.0</td>\n",
       "      <td>4.0</td>\n",
       "    </tr>\n",
       "    <tr>\n",
       "      <th>2</th>\n",
       "      <td>3</td>\n",
       "      <td>0.0</td>\n",
       "      <td>4.0</td>\n",
       "      <td>0.0</td>\n",
       "      <td>0.0</td>\n",
       "      <td>3.0</td>\n",
       "      <td>5.0</td>\n",
       "      <td>0.0</td>\n",
       "      <td>0.0</td>\n",
       "      <td>0.0</td>\n",
       "      <td>...</td>\n",
       "      <td>0.0</td>\n",
       "      <td>0.0</td>\n",
       "      <td>0.0</td>\n",
       "      <td>0.0</td>\n",
       "      <td>4.0</td>\n",
       "      <td>0.0</td>\n",
       "      <td>0.0</td>\n",
       "      <td>0.0</td>\n",
       "      <td>0.0</td>\n",
       "      <td>0.0</td>\n",
       "    </tr>\n",
       "    <tr>\n",
       "      <th>3</th>\n",
       "      <td>4</td>\n",
       "      <td>0.0</td>\n",
       "      <td>0.0</td>\n",
       "      <td>0.0</td>\n",
       "      <td>0.0</td>\n",
       "      <td>0.0</td>\n",
       "      <td>0.0</td>\n",
       "      <td>0.0</td>\n",
       "      <td>0.0</td>\n",
       "      <td>0.0</td>\n",
       "      <td>...</td>\n",
       "      <td>0.0</td>\n",
       "      <td>0.0</td>\n",
       "      <td>0.0</td>\n",
       "      <td>0.0</td>\n",
       "      <td>0.0</td>\n",
       "      <td>0.0</td>\n",
       "      <td>0.0</td>\n",
       "      <td>0.0</td>\n",
       "      <td>0.0</td>\n",
       "      <td>0.0</td>\n",
       "    </tr>\n",
       "    <tr>\n",
       "      <th>4</th>\n",
       "      <td>5</td>\n",
       "      <td>0.0</td>\n",
       "      <td>0.0</td>\n",
       "      <td>0.0</td>\n",
       "      <td>0.0</td>\n",
       "      <td>0.0</td>\n",
       "      <td>0.0</td>\n",
       "      <td>0.0</td>\n",
       "      <td>0.0</td>\n",
       "      <td>0.0</td>\n",
       "      <td>...</td>\n",
       "      <td>4.0</td>\n",
       "      <td>0.0</td>\n",
       "      <td>0.0</td>\n",
       "      <td>0.0</td>\n",
       "      <td>0.0</td>\n",
       "      <td>0.0</td>\n",
       "      <td>0.0</td>\n",
       "      <td>0.0</td>\n",
       "      <td>0.0</td>\n",
       "      <td>0.0</td>\n",
       "    </tr>\n",
       "  </tbody>\n",
       "</table>\n",
       "<p>5 rows × 84057 columns</p>\n",
       "</div>"
      ],
      "text/plain": [
       "   movieId    1    2    3    5    7    8   11   13   14  ...  138474  138475   \n",
       "0        1  0.0  0.0  4.0  0.0  0.0  4.0  4.5  4.0  4.5  ...     5.0     0.0  \\\n",
       "1        2  3.5  0.0  0.0  3.0  0.0  0.0  0.0  3.0  0.0  ...     4.0     0.0   \n",
       "2        3  0.0  4.0  0.0  0.0  3.0  5.0  0.0  0.0  0.0  ...     0.0     0.0   \n",
       "3        4  0.0  0.0  0.0  0.0  0.0  0.0  0.0  0.0  0.0  ...     0.0     0.0   \n",
       "4        5  0.0  0.0  0.0  0.0  0.0  0.0  0.0  0.0  0.0  ...     4.0     0.0   \n",
       "\n",
       "   138477  138483  138484  138486  138487  138490  138492  138493  \n",
       "0     3.0     4.0     0.0     5.0     0.0     0.0     0.0     3.5  \n",
       "1     0.0     3.0     3.0     0.0     0.0     0.0     0.0     4.0  \n",
       "2     0.0     0.0     4.0     0.0     0.0     0.0     0.0     0.0  \n",
       "3     0.0     0.0     0.0     0.0     0.0     0.0     0.0     0.0  \n",
       "4     0.0     0.0     0.0     0.0     0.0     0.0     0.0     0.0  \n",
       "\n",
       "[5 rows x 84057 columns]"
      ]
     },
     "execution_count": 10,
     "metadata": {},
     "output_type": "execute_result"
    }
   ],
   "source": [
    "dfPivot = dfPivot.rename_axis(None, axis=1).reset_index()\n",
    "dfPivot.head()"
   ]
  },
  {
   "cell_type": "markdown",
   "id": "2ab304e5",
   "metadata": {},
   "source": [
    "# **Modelling**"
   ]
  },
  {
   "cell_type": "code",
   "execution_count": 11,
   "id": "d4569f66",
   "metadata": {},
   "outputs": [
    {
     "data": {
      "text/html": [
       "<style>#sk-container-id-1 {color: black;background-color: white;}#sk-container-id-1 pre{padding: 0;}#sk-container-id-1 div.sk-toggleable {background-color: white;}#sk-container-id-1 label.sk-toggleable__label {cursor: pointer;display: block;width: 100%;margin-bottom: 0;padding: 0.3em;box-sizing: border-box;text-align: center;}#sk-container-id-1 label.sk-toggleable__label-arrow:before {content: \"▸\";float: left;margin-right: 0.25em;color: #696969;}#sk-container-id-1 label.sk-toggleable__label-arrow:hover:before {color: black;}#sk-container-id-1 div.sk-estimator:hover label.sk-toggleable__label-arrow:before {color: black;}#sk-container-id-1 div.sk-toggleable__content {max-height: 0;max-width: 0;overflow: hidden;text-align: left;background-color: #f0f8ff;}#sk-container-id-1 div.sk-toggleable__content pre {margin: 0.2em;color: black;border-radius: 0.25em;background-color: #f0f8ff;}#sk-container-id-1 input.sk-toggleable__control:checked~div.sk-toggleable__content {max-height: 200px;max-width: 100%;overflow: auto;}#sk-container-id-1 input.sk-toggleable__control:checked~label.sk-toggleable__label-arrow:before {content: \"▾\";}#sk-container-id-1 div.sk-estimator input.sk-toggleable__control:checked~label.sk-toggleable__label {background-color: #d4ebff;}#sk-container-id-1 div.sk-label input.sk-toggleable__control:checked~label.sk-toggleable__label {background-color: #d4ebff;}#sk-container-id-1 input.sk-hidden--visually {border: 0;clip: rect(1px 1px 1px 1px);clip: rect(1px, 1px, 1px, 1px);height: 1px;margin: -1px;overflow: hidden;padding: 0;position: absolute;width: 1px;}#sk-container-id-1 div.sk-estimator {font-family: monospace;background-color: #f0f8ff;border: 1px dotted black;border-radius: 0.25em;box-sizing: border-box;margin-bottom: 0.5em;}#sk-container-id-1 div.sk-estimator:hover {background-color: #d4ebff;}#sk-container-id-1 div.sk-parallel-item::after {content: \"\";width: 100%;border-bottom: 1px solid gray;flex-grow: 1;}#sk-container-id-1 div.sk-label:hover label.sk-toggleable__label {background-color: #d4ebff;}#sk-container-id-1 div.sk-serial::before {content: \"\";position: absolute;border-left: 1px solid gray;box-sizing: border-box;top: 0;bottom: 0;left: 50%;z-index: 0;}#sk-container-id-1 div.sk-serial {display: flex;flex-direction: column;align-items: center;background-color: white;padding-right: 0.2em;padding-left: 0.2em;position: relative;}#sk-container-id-1 div.sk-item {position: relative;z-index: 1;}#sk-container-id-1 div.sk-parallel {display: flex;align-items: stretch;justify-content: center;background-color: white;position: relative;}#sk-container-id-1 div.sk-item::before, #sk-container-id-1 div.sk-parallel-item::before {content: \"\";position: absolute;border-left: 1px solid gray;box-sizing: border-box;top: 0;bottom: 0;left: 50%;z-index: -1;}#sk-container-id-1 div.sk-parallel-item {display: flex;flex-direction: column;z-index: 1;position: relative;background-color: white;}#sk-container-id-1 div.sk-parallel-item:first-child::after {align-self: flex-end;width: 50%;}#sk-container-id-1 div.sk-parallel-item:last-child::after {align-self: flex-start;width: 50%;}#sk-container-id-1 div.sk-parallel-item:only-child::after {width: 0;}#sk-container-id-1 div.sk-dashed-wrapped {border: 1px dashed gray;margin: 0 0.4em 0.5em 0.4em;box-sizing: border-box;padding-bottom: 0.4em;background-color: white;}#sk-container-id-1 div.sk-label label {font-family: monospace;font-weight: bold;display: inline-block;line-height: 1.2em;}#sk-container-id-1 div.sk-label-container {text-align: center;}#sk-container-id-1 div.sk-container {/* jupyter's `normalize.less` sets `[hidden] { display: none; }` but bootstrap.min.css set `[hidden] { display: none !important; }` so we also need the `!important` here to be able to override the default hidden behavior on the sphinx rendered scikit-learn.org. See: https://github.com/scikit-learn/scikit-learn/issues/21755 */display: inline-block !important;position: relative;}#sk-container-id-1 div.sk-text-repr-fallback {display: none;}</style><div id=\"sk-container-id-1\" class=\"sk-top-container\"><div class=\"sk-text-repr-fallback\"><pre>NearestNeighbors(algorithm=&#x27;brute&#x27;, metric=&#x27;cosine&#x27;, n_jobs=-1, n_neighbors=20)</pre><b>In a Jupyter environment, please rerun this cell to show the HTML representation or trust the notebook. <br />On GitHub, the HTML representation is unable to render, please try loading this page with nbviewer.org.</b></div><div class=\"sk-container\" hidden><div class=\"sk-item\"><div class=\"sk-estimator sk-toggleable\"><input class=\"sk-toggleable__control sk-hidden--visually\" id=\"sk-estimator-id-1\" type=\"checkbox\" checked><label for=\"sk-estimator-id-1\" class=\"sk-toggleable__label sk-toggleable__label-arrow\">NearestNeighbors</label><div class=\"sk-toggleable__content\"><pre>NearestNeighbors(algorithm=&#x27;brute&#x27;, metric=&#x27;cosine&#x27;, n_jobs=-1, n_neighbors=20)</pre></div></div></div></div></div>"
      ],
      "text/plain": [
       "NearestNeighbors(algorithm='brute', metric='cosine', n_jobs=-1, n_neighbors=20)"
      ]
     },
     "execution_count": 11,
     "metadata": {},
     "output_type": "execute_result"
    }
   ],
   "source": [
    "# create object knn and fit it by using csr matrix\n",
    "knn = NearestNeighbors(metric='cosine', algorithm='brute', n_neighbors=20, n_jobs=-1)\n",
    "\n",
    "knn.fit(csr_data)"
   ]
  },
  {
   "cell_type": "markdown",
   "id": "facc6280",
   "metadata": {},
   "source": [
    "# **Example of recommendation**"
   ]
  },
  {
   "cell_type": "code",
   "execution_count": 12,
   "id": "305bbc6a",
   "metadata": {},
   "outputs": [],
   "source": [
    "recommendations = 10\n",
    "search_word = 'Spider-Man'"
   ]
  },
  {
   "cell_type": "code",
   "execution_count": 13,
   "id": "fff70c11",
   "metadata": {},
   "outputs": [
    {
     "data": {
      "text/html": [
       "<div>\n",
       "<style scoped>\n",
       "    .dataframe tbody tr th:only-of-type {\n",
       "        vertical-align: middle;\n",
       "    }\n",
       "\n",
       "    .dataframe tbody tr th {\n",
       "        vertical-align: top;\n",
       "    }\n",
       "\n",
       "    .dataframe thead th {\n",
       "        text-align: right;\n",
       "    }\n",
       "</style>\n",
       "<table border=\"1\" class=\"dataframe\">\n",
       "  <thead>\n",
       "    <tr style=\"text-align: right;\">\n",
       "      <th></th>\n",
       "      <th>movieId</th>\n",
       "      <th>title</th>\n",
       "    </tr>\n",
       "  </thead>\n",
       "  <tbody>\n",
       "    <tr>\n",
       "      <th>5252</th>\n",
       "      <td>5349</td>\n",
       "      <td>Spider-Man (2002)</td>\n",
       "    </tr>\n",
       "    <tr>\n",
       "      <th>7953</th>\n",
       "      <td>8636</td>\n",
       "      <td>Spider-Man 2 (2004)</td>\n",
       "    </tr>\n",
       "    <tr>\n",
       "      <th>11826</th>\n",
       "      <td>52722</td>\n",
       "      <td>Spider-Man 3 (2007)</td>\n",
       "    </tr>\n",
       "    <tr>\n",
       "      <th>15085</th>\n",
       "      <td>76709</td>\n",
       "      <td>Spider-Man: The Ultimate Villain Showdown (2002)</td>\n",
       "    </tr>\n",
       "    <tr>\n",
       "      <th>19204</th>\n",
       "      <td>95510</td>\n",
       "      <td>Amazing Spider-Man, The (2012)</td>\n",
       "    </tr>\n",
       "    <tr>\n",
       "      <th>23215</th>\n",
       "      <td>110553</td>\n",
       "      <td>The Amazing Spider-Man 2 (2014)</td>\n",
       "    </tr>\n",
       "  </tbody>\n",
       "</table>\n",
       "</div>"
      ],
      "text/plain": [
       "       movieId                                             title\n",
       "5252      5349                                 Spider-Man (2002)\n",
       "7953      8636                               Spider-Man 2 (2004)\n",
       "11826    52722                               Spider-Man 3 (2007)\n",
       "15085    76709  Spider-Man: The Ultimate Villain Showdown (2002)\n",
       "19204    95510                    Amazing Spider-Man, The (2012)\n",
       "23215   110553                   The Amazing Spider-Man 2 (2014)"
      ]
     },
     "execution_count": 13,
     "metadata": {},
     "output_type": "execute_result"
    }
   ],
   "source": [
    "# movie search in title from table movies\n",
    "movie_search = movies[movies['title'].str.contains(search_word)]\n",
    "movie_search"
   ]
  },
  {
   "cell_type": "code",
   "execution_count": 14,
   "id": "b5b36d89",
   "metadata": {},
   "outputs": [
    {
     "data": {
      "text/plain": [
       "5182"
      ]
     },
     "execution_count": 14,
     "metadata": {},
     "output_type": "execute_result"
    }
   ],
   "source": [
    "# took movieId from first row in movie_search\n",
    "movie_id = movie_search.iloc[0]['movieId']\n",
    "\n",
    "# search index in dfPivot by using movieId from movies table\n",
    "movie_id = dfPivot[dfPivot['movieId'] == movie_id].index[0]\n",
    "movie_id"
   ]
  },
  {
   "cell_type": "code",
   "execution_count": 15,
   "id": "e9051714",
   "metadata": {},
   "outputs": [],
   "source": [
    "# get nearest indices and distances in csr matrix by using method kneighbors\n",
    "distances, indices = knn.kneighbors(csr_data[movie_id], n_neighbors = recommendations + 1)"
   ]
  },
  {
   "cell_type": "code",
   "execution_count": 16,
   "id": "2ff4c7dc",
   "metadata": {},
   "outputs": [],
   "source": [
    "indices_list = indices.squeeze().tolist()\n",
    "distances_list = distances.squeeze().tolist()\n",
    "\n",
    "indices_distances = list(zip(indices_list, distances_list))"
   ]
  },
  {
   "cell_type": "code",
   "execution_count": 17,
   "id": "2673b5ac",
   "metadata": {},
   "outputs": [
    {
     "data": {
      "text/plain": [
       "[(7768, 0.2894297796567148),\n",
       " (4834, 0.3297190588602036),\n",
       " (3656, 0.3366138195276729),\n",
       " (5766, 0.3375502708243109),\n",
       " (5277, 0.34085385441992766),\n",
       " (6322, 0.3437572558732621),\n",
       " (4159, 0.35086730473939565),\n",
       " (6137, 0.351684191144065),\n",
       " (4804, 0.3590024710760876),\n",
       " (6906, 0.3665289807731361)]"
      ]
     },
     "execution_count": 17,
     "metadata": {},
     "output_type": "execute_result"
    }
   ],
   "source": [
    "indices_distances_sorted = sorted(indices_distances, key = lambda x: x[1], reverse = False)\n",
    " \n",
    "# drop first element as it is our search movie\n",
    "indices_distances_sorted = indices_distances_sorted[1:]\n",
    "indices_distances_sorted"
   ]
  },
  {
   "cell_type": "code",
   "execution_count": 18,
   "id": "1eeb57d7",
   "metadata": {},
   "outputs": [],
   "source": [
    "# create an empty list to store movie title\n",
    "recommendation_list = []\n",
    " \n",
    "# теперь в цикле будем поочередно проходить по кортежам\n",
    "for ind_dist in indices_distances_sorted:\n",
    " \n",
    "    # get movieId from pivot table\n",
    "    matrix_movie_id = dfPivot.iloc[ind_dist[0]]['movieId']\n",
    " \n",
    "    # get index from movies table by movieId\n",
    "    id = movies[movies['movieId'] == matrix_movie_id].index\n",
    " \n",
    "    # get movie title by id\n",
    "    title = movies.iloc[id]['title'].values[0]\n",
    " \n",
    "    recommendation_list.append({'Title' : title})"
   ]
  },
  {
   "cell_type": "code",
   "execution_count": 19,
   "id": "988210dc",
   "metadata": {
    "scrolled": true
   },
   "outputs": [
    {
     "data": {
      "text/plain": [
       "[{'Title': 'Spider-Man 2 (2004)'},\n",
       " {'Title': 'Lord of the Rings: The Fellowship of the Ring, The (2001)'},\n",
       " {'Title': 'X-Men (2000)'},\n",
       " {'Title': 'Lord of the Rings: The Two Towers, The (2002)'},\n",
       " {'Title': 'Minority Report (2002)'},\n",
       " {'Title': 'Pirates of the Caribbean: The Curse of the Black Pearl (2003)'},\n",
       " {'Title': 'Shrek (2001)'},\n",
       " {'Title': 'X2: X-Men United (2003)'},\n",
       " {'Title': \"Ocean's Eleven (2001)\"},\n",
       " {'Title': 'Lord of the Rings: The Return of the King, The (2003)'}]"
      ]
     },
     "execution_count": 19,
     "metadata": {},
     "output_type": "execute_result"
    }
   ],
   "source": [
    "recommendation_list"
   ]
  },
  {
   "cell_type": "code",
   "execution_count": null,
   "id": "8686a86c",
   "metadata": {},
   "outputs": [],
   "source": []
  }
 ],
 "metadata": {
  "kernelspec": {
   "display_name": "Python 3 (ipykernel)",
   "language": "python",
   "name": "python3"
  },
  "language_info": {
   "codemirror_mode": {
    "name": "ipython",
    "version": 3
   },
   "file_extension": ".py",
   "mimetype": "text/x-python",
   "name": "python",
   "nbconvert_exporter": "python",
   "pygments_lexer": "ipython3",
   "version": "3.10.1"
  }
 },
 "nbformat": 4,
 "nbformat_minor": 5
}
