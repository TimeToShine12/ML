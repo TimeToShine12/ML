{
 "cells": [
  {
   "cell_type": "code",
   "execution_count": 1,
   "id": "d0d1cc6c",
   "metadata": {
    "_cell_guid": "b1076dfc-b9ad-4769-8c92-a6c4dae69d19",
    "_uuid": "8f2839f25d086af736a60e9eeb907d3b93b6e0e5",
    "execution": {
     "iopub.execute_input": "2023-09-28T21:11:36.235868Z",
     "iopub.status.busy": "2023-09-28T21:11:36.235498Z",
     "iopub.status.idle": "2023-09-28T21:11:36.249856Z",
     "shell.execute_reply": "2023-09-28T21:11:36.248581Z"
    },
    "papermill": {
     "duration": 0.034332,
     "end_time": "2023-09-28T21:11:36.252481",
     "exception": false,
     "start_time": "2023-09-28T21:11:36.218149",
     "status": "completed"
    },
    "tags": []
   },
   "outputs": [
    {
     "name": "stdout",
     "output_type": "stream",
     "text": [
      "/kaggle/input/spaceship-titanic/sample_submission.csv\n",
      "/kaggle/input/spaceship-titanic/train.csv\n",
      "/kaggle/input/spaceship-titanic/test.csv\n"
     ]
    }
   ],
   "source": [
    "# This Python 3 environment comes with many helpful analytics libraries installed\n",
    "# It is defined by the kaggle/python Docker image: https://github.com/kaggle/docker-python\n",
    "# For example, here's several helpful packages to load\n",
    "\n",
    "import numpy as np # linear algebra\n",
    "import pandas as pd # data processing, CSV file I/O (e.g. pd.read_csv)\n",
    "\n",
    "# Input data files are available in the read-only \"../input/\" directory\n",
    "# For example, running this (by clicking run or pressing Shift+Enter) will list all files under the input directory\n",
    "\n",
    "import os\n",
    "for dirname, _, filenames in os.walk('/kaggle/input'):\n",
    "    for filename in filenames:\n",
    "        print(os.path.join(dirname, filename))\n",
    "\n",
    "# You can write up to 20GB to the current directory (/kaggle/working/) that gets preserved as output when you create a version using \"Save & Run All\" \n",
    "# You can also write temporary files to /kaggle/temp/, but they won't be saved outside of the current session"
   ]
  },
  {
   "cell_type": "markdown",
   "id": "06aded3b",
   "metadata": {
    "papermill": {
     "duration": 0.015151,
     "end_time": "2023-09-28T21:11:36.283922",
     "exception": false,
     "start_time": "2023-09-28T21:11:36.268771",
     "status": "completed"
    },
    "tags": []
   },
   "source": [
    "# Loading train dataset"
   ]
  },
  {
   "cell_type": "code",
   "execution_count": 2,
   "id": "7cabb7a7",
   "metadata": {
    "execution": {
     "iopub.execute_input": "2023-09-28T21:11:36.316330Z",
     "iopub.status.busy": "2023-09-28T21:11:36.315964Z",
     "iopub.status.idle": "2023-09-28T21:11:36.409295Z",
     "shell.execute_reply": "2023-09-28T21:11:36.407934Z"
    },
    "papermill": {
     "duration": 0.11258,
     "end_time": "2023-09-28T21:11:36.411842",
     "exception": false,
     "start_time": "2023-09-28T21:11:36.299262",
     "status": "completed"
    },
    "tags": []
   },
   "outputs": [
    {
     "data": {
      "text/html": [
       "<div>\n",
       "<style scoped>\n",
       "    .dataframe tbody tr th:only-of-type {\n",
       "        vertical-align: middle;\n",
       "    }\n",
       "\n",
       "    .dataframe tbody tr th {\n",
       "        vertical-align: top;\n",
       "    }\n",
       "\n",
       "    .dataframe thead th {\n",
       "        text-align: right;\n",
       "    }\n",
       "</style>\n",
       "<table border=\"1\" class=\"dataframe\">\n",
       "  <thead>\n",
       "    <tr style=\"text-align: right;\">\n",
       "      <th></th>\n",
       "      <th>PassengerId</th>\n",
       "      <th>HomePlanet</th>\n",
       "      <th>CryoSleep</th>\n",
       "      <th>Cabin</th>\n",
       "      <th>Destination</th>\n",
       "      <th>Age</th>\n",
       "      <th>VIP</th>\n",
       "      <th>RoomService</th>\n",
       "      <th>FoodCourt</th>\n",
       "      <th>ShoppingMall</th>\n",
       "      <th>Spa</th>\n",
       "      <th>VRDeck</th>\n",
       "      <th>Name</th>\n",
       "      <th>Transported</th>\n",
       "    </tr>\n",
       "  </thead>\n",
       "  <tbody>\n",
       "    <tr>\n",
       "      <th>0</th>\n",
       "      <td>0001_01</td>\n",
       "      <td>Europa</td>\n",
       "      <td>False</td>\n",
       "      <td>B/0/P</td>\n",
       "      <td>TRAPPIST-1e</td>\n",
       "      <td>39.0</td>\n",
       "      <td>False</td>\n",
       "      <td>0.0</td>\n",
       "      <td>0.0</td>\n",
       "      <td>0.0</td>\n",
       "      <td>0.0</td>\n",
       "      <td>0.0</td>\n",
       "      <td>Maham Ofracculy</td>\n",
       "      <td>False</td>\n",
       "    </tr>\n",
       "    <tr>\n",
       "      <th>1</th>\n",
       "      <td>0002_01</td>\n",
       "      <td>Earth</td>\n",
       "      <td>False</td>\n",
       "      <td>F/0/S</td>\n",
       "      <td>TRAPPIST-1e</td>\n",
       "      <td>24.0</td>\n",
       "      <td>False</td>\n",
       "      <td>109.0</td>\n",
       "      <td>9.0</td>\n",
       "      <td>25.0</td>\n",
       "      <td>549.0</td>\n",
       "      <td>44.0</td>\n",
       "      <td>Juanna Vines</td>\n",
       "      <td>True</td>\n",
       "    </tr>\n",
       "    <tr>\n",
       "      <th>2</th>\n",
       "      <td>0003_01</td>\n",
       "      <td>Europa</td>\n",
       "      <td>False</td>\n",
       "      <td>A/0/S</td>\n",
       "      <td>TRAPPIST-1e</td>\n",
       "      <td>58.0</td>\n",
       "      <td>True</td>\n",
       "      <td>43.0</td>\n",
       "      <td>3576.0</td>\n",
       "      <td>0.0</td>\n",
       "      <td>6715.0</td>\n",
       "      <td>49.0</td>\n",
       "      <td>Altark Susent</td>\n",
       "      <td>False</td>\n",
       "    </tr>\n",
       "    <tr>\n",
       "      <th>3</th>\n",
       "      <td>0003_02</td>\n",
       "      <td>Europa</td>\n",
       "      <td>False</td>\n",
       "      <td>A/0/S</td>\n",
       "      <td>TRAPPIST-1e</td>\n",
       "      <td>33.0</td>\n",
       "      <td>False</td>\n",
       "      <td>0.0</td>\n",
       "      <td>1283.0</td>\n",
       "      <td>371.0</td>\n",
       "      <td>3329.0</td>\n",
       "      <td>193.0</td>\n",
       "      <td>Solam Susent</td>\n",
       "      <td>False</td>\n",
       "    </tr>\n",
       "    <tr>\n",
       "      <th>4</th>\n",
       "      <td>0004_01</td>\n",
       "      <td>Earth</td>\n",
       "      <td>False</td>\n",
       "      <td>F/1/S</td>\n",
       "      <td>TRAPPIST-1e</td>\n",
       "      <td>16.0</td>\n",
       "      <td>False</td>\n",
       "      <td>303.0</td>\n",
       "      <td>70.0</td>\n",
       "      <td>151.0</td>\n",
       "      <td>565.0</td>\n",
       "      <td>2.0</td>\n",
       "      <td>Willy Santantines</td>\n",
       "      <td>True</td>\n",
       "    </tr>\n",
       "  </tbody>\n",
       "</table>\n",
       "</div>"
      ],
      "text/plain": [
       "  PassengerId HomePlanet CryoSleep  Cabin  Destination   Age    VIP  \\\n",
       "0     0001_01     Europa     False  B/0/P  TRAPPIST-1e  39.0  False   \n",
       "1     0002_01      Earth     False  F/0/S  TRAPPIST-1e  24.0  False   \n",
       "2     0003_01     Europa     False  A/0/S  TRAPPIST-1e  58.0   True   \n",
       "3     0003_02     Europa     False  A/0/S  TRAPPIST-1e  33.0  False   \n",
       "4     0004_01      Earth     False  F/1/S  TRAPPIST-1e  16.0  False   \n",
       "\n",
       "   RoomService  FoodCourt  ShoppingMall     Spa  VRDeck               Name  \\\n",
       "0          0.0        0.0           0.0     0.0     0.0    Maham Ofracculy   \n",
       "1        109.0        9.0          25.0   549.0    44.0       Juanna Vines   \n",
       "2         43.0     3576.0           0.0  6715.0    49.0      Altark Susent   \n",
       "3          0.0     1283.0         371.0  3329.0   193.0       Solam Susent   \n",
       "4        303.0       70.0         151.0   565.0     2.0  Willy Santantines   \n",
       "\n",
       "   Transported  \n",
       "0        False  \n",
       "1         True  \n",
       "2        False  \n",
       "3        False  \n",
       "4         True  "
      ]
     },
     "execution_count": 2,
     "metadata": {},
     "output_type": "execute_result"
    }
   ],
   "source": [
    "train = pd.read_csv('/kaggle/input/spaceship-titanic/train.csv')\n",
    "train.head()"
   ]
  },
  {
   "cell_type": "markdown",
   "id": "276e82ed",
   "metadata": {
    "papermill": {
     "duration": 0.015241,
     "end_time": "2023-09-28T21:11:36.442697",
     "exception": false,
     "start_time": "2023-09-28T21:11:36.427456",
     "status": "completed"
    },
    "tags": []
   },
   "source": [
    "# Check train dataset"
   ]
  },
  {
   "cell_type": "code",
   "execution_count": 3,
   "id": "769c2706",
   "metadata": {
    "execution": {
     "iopub.execute_input": "2023-09-28T21:11:36.475659Z",
     "iopub.status.busy": "2023-09-28T21:11:36.475221Z",
     "iopub.status.idle": "2023-09-28T21:11:36.482088Z",
     "shell.execute_reply": "2023-09-28T21:11:36.481061Z"
    },
    "papermill": {
     "duration": 0.02619,
     "end_time": "2023-09-28T21:11:36.484517",
     "exception": false,
     "start_time": "2023-09-28T21:11:36.458327",
     "status": "completed"
    },
    "tags": []
   },
   "outputs": [
    {
     "data": {
      "text/plain": [
       "(8693, 14)"
      ]
     },
     "execution_count": 3,
     "metadata": {},
     "output_type": "execute_result"
    }
   ],
   "source": [
    "train.shape"
   ]
  },
  {
   "cell_type": "code",
   "execution_count": 4,
   "id": "4d76bbdb",
   "metadata": {
    "execution": {
     "iopub.execute_input": "2023-09-28T21:11:36.518259Z",
     "iopub.status.busy": "2023-09-28T21:11:36.517833Z",
     "iopub.status.idle": "2023-09-28T21:11:36.567641Z",
     "shell.execute_reply": "2023-09-28T21:11:36.566017Z"
    },
    "papermill": {
     "duration": 0.069928,
     "end_time": "2023-09-28T21:11:36.570340",
     "exception": false,
     "start_time": "2023-09-28T21:11:36.500412",
     "status": "completed"
    },
    "tags": []
   },
   "outputs": [
    {
     "name": "stdout",
     "output_type": "stream",
     "text": [
      "<class 'pandas.core.frame.DataFrame'>\n",
      "RangeIndex: 8693 entries, 0 to 8692\n",
      "Data columns (total 14 columns):\n",
      " #   Column        Non-Null Count  Dtype  \n",
      "---  ------        --------------  -----  \n",
      " 0   PassengerId   8693 non-null   object \n",
      " 1   HomePlanet    8492 non-null   object \n",
      " 2   CryoSleep     8476 non-null   object \n",
      " 3   Cabin         8494 non-null   object \n",
      " 4   Destination   8511 non-null   object \n",
      " 5   Age           8514 non-null   float64\n",
      " 6   VIP           8490 non-null   object \n",
      " 7   RoomService   8512 non-null   float64\n",
      " 8   FoodCourt     8510 non-null   float64\n",
      " 9   ShoppingMall  8485 non-null   float64\n",
      " 10  Spa           8510 non-null   float64\n",
      " 11  VRDeck        8505 non-null   float64\n",
      " 12  Name          8493 non-null   object \n",
      " 13  Transported   8693 non-null   bool   \n",
      "dtypes: bool(1), float64(6), object(7)\n",
      "memory usage: 891.5+ KB\n"
     ]
    }
   ],
   "source": [
    "train.info()"
   ]
  },
  {
   "cell_type": "code",
   "execution_count": 5,
   "id": "de85a7bb",
   "metadata": {
    "execution": {
     "iopub.execute_input": "2023-09-28T21:11:36.605778Z",
     "iopub.status.busy": "2023-09-28T21:11:36.605365Z",
     "iopub.status.idle": "2023-09-28T21:11:36.644787Z",
     "shell.execute_reply": "2023-09-28T21:11:36.643436Z"
    },
    "papermill": {
     "duration": 0.059351,
     "end_time": "2023-09-28T21:11:36.647196",
     "exception": false,
     "start_time": "2023-09-28T21:11:36.587845",
     "status": "completed"
    },
    "tags": []
   },
   "outputs": [
    {
     "data": {
      "text/html": [
       "<div>\n",
       "<style scoped>\n",
       "    .dataframe tbody tr th:only-of-type {\n",
       "        vertical-align: middle;\n",
       "    }\n",
       "\n",
       "    .dataframe tbody tr th {\n",
       "        vertical-align: top;\n",
       "    }\n",
       "\n",
       "    .dataframe thead th {\n",
       "        text-align: right;\n",
       "    }\n",
       "</style>\n",
       "<table border=\"1\" class=\"dataframe\">\n",
       "  <thead>\n",
       "    <tr style=\"text-align: right;\">\n",
       "      <th></th>\n",
       "      <th>count</th>\n",
       "      <th>mean</th>\n",
       "      <th>std</th>\n",
       "      <th>min</th>\n",
       "      <th>25%</th>\n",
       "      <th>50%</th>\n",
       "      <th>75%</th>\n",
       "      <th>max</th>\n",
       "    </tr>\n",
       "  </thead>\n",
       "  <tbody>\n",
       "    <tr>\n",
       "      <th>Age</th>\n",
       "      <td>8514.0</td>\n",
       "      <td>28.827930</td>\n",
       "      <td>14.489021</td>\n",
       "      <td>0.0</td>\n",
       "      <td>19.0</td>\n",
       "      <td>27.0</td>\n",
       "      <td>38.0</td>\n",
       "      <td>79.0</td>\n",
       "    </tr>\n",
       "    <tr>\n",
       "      <th>RoomService</th>\n",
       "      <td>8512.0</td>\n",
       "      <td>224.687617</td>\n",
       "      <td>666.717663</td>\n",
       "      <td>0.0</td>\n",
       "      <td>0.0</td>\n",
       "      <td>0.0</td>\n",
       "      <td>47.0</td>\n",
       "      <td>14327.0</td>\n",
       "    </tr>\n",
       "    <tr>\n",
       "      <th>FoodCourt</th>\n",
       "      <td>8510.0</td>\n",
       "      <td>458.077203</td>\n",
       "      <td>1611.489240</td>\n",
       "      <td>0.0</td>\n",
       "      <td>0.0</td>\n",
       "      <td>0.0</td>\n",
       "      <td>76.0</td>\n",
       "      <td>29813.0</td>\n",
       "    </tr>\n",
       "    <tr>\n",
       "      <th>ShoppingMall</th>\n",
       "      <td>8485.0</td>\n",
       "      <td>173.729169</td>\n",
       "      <td>604.696458</td>\n",
       "      <td>0.0</td>\n",
       "      <td>0.0</td>\n",
       "      <td>0.0</td>\n",
       "      <td>27.0</td>\n",
       "      <td>23492.0</td>\n",
       "    </tr>\n",
       "    <tr>\n",
       "      <th>Spa</th>\n",
       "      <td>8510.0</td>\n",
       "      <td>311.138778</td>\n",
       "      <td>1136.705535</td>\n",
       "      <td>0.0</td>\n",
       "      <td>0.0</td>\n",
       "      <td>0.0</td>\n",
       "      <td>59.0</td>\n",
       "      <td>22408.0</td>\n",
       "    </tr>\n",
       "    <tr>\n",
       "      <th>VRDeck</th>\n",
       "      <td>8505.0</td>\n",
       "      <td>304.854791</td>\n",
       "      <td>1145.717189</td>\n",
       "      <td>0.0</td>\n",
       "      <td>0.0</td>\n",
       "      <td>0.0</td>\n",
       "      <td>46.0</td>\n",
       "      <td>24133.0</td>\n",
       "    </tr>\n",
       "  </tbody>\n",
       "</table>\n",
       "</div>"
      ],
      "text/plain": [
       "               count        mean          std  min   25%   50%   75%      max\n",
       "Age           8514.0   28.827930    14.489021  0.0  19.0  27.0  38.0     79.0\n",
       "RoomService   8512.0  224.687617   666.717663  0.0   0.0   0.0  47.0  14327.0\n",
       "FoodCourt     8510.0  458.077203  1611.489240  0.0   0.0   0.0  76.0  29813.0\n",
       "ShoppingMall  8485.0  173.729169   604.696458  0.0   0.0   0.0  27.0  23492.0\n",
       "Spa           8510.0  311.138778  1136.705535  0.0   0.0   0.0  59.0  22408.0\n",
       "VRDeck        8505.0  304.854791  1145.717189  0.0   0.0   0.0  46.0  24133.0"
      ]
     },
     "execution_count": 5,
     "metadata": {},
     "output_type": "execute_result"
    }
   ],
   "source": [
    "### numeric columns info\n",
    "train.describe().T"
   ]
  },
  {
   "cell_type": "code",
   "execution_count": 6,
   "id": "3197a138",
   "metadata": {
    "execution": {
     "iopub.execute_input": "2023-09-28T21:11:36.682297Z",
     "iopub.status.busy": "2023-09-28T21:11:36.681873Z",
     "iopub.status.idle": "2023-09-28T21:11:36.733401Z",
     "shell.execute_reply": "2023-09-28T21:11:36.732223Z"
    },
    "papermill": {
     "duration": 0.072348,
     "end_time": "2023-09-28T21:11:36.735943",
     "exception": false,
     "start_time": "2023-09-28T21:11:36.663595",
     "status": "completed"
    },
    "tags": []
   },
   "outputs": [
    {
     "data": {
      "text/html": [
       "<div>\n",
       "<style scoped>\n",
       "    .dataframe tbody tr th:only-of-type {\n",
       "        vertical-align: middle;\n",
       "    }\n",
       "\n",
       "    .dataframe tbody tr th {\n",
       "        vertical-align: top;\n",
       "    }\n",
       "\n",
       "    .dataframe thead th {\n",
       "        text-align: right;\n",
       "    }\n",
       "</style>\n",
       "<table border=\"1\" class=\"dataframe\">\n",
       "  <thead>\n",
       "    <tr style=\"text-align: right;\">\n",
       "      <th></th>\n",
       "      <th>PassengerId</th>\n",
       "      <th>HomePlanet</th>\n",
       "      <th>CryoSleep</th>\n",
       "      <th>Cabin</th>\n",
       "      <th>Destination</th>\n",
       "      <th>VIP</th>\n",
       "      <th>Name</th>\n",
       "    </tr>\n",
       "  </thead>\n",
       "  <tbody>\n",
       "    <tr>\n",
       "      <th>count</th>\n",
       "      <td>8693</td>\n",
       "      <td>8492</td>\n",
       "      <td>8476</td>\n",
       "      <td>8494</td>\n",
       "      <td>8511</td>\n",
       "      <td>8490</td>\n",
       "      <td>8493</td>\n",
       "    </tr>\n",
       "    <tr>\n",
       "      <th>unique</th>\n",
       "      <td>8693</td>\n",
       "      <td>3</td>\n",
       "      <td>2</td>\n",
       "      <td>6560</td>\n",
       "      <td>3</td>\n",
       "      <td>2</td>\n",
       "      <td>8473</td>\n",
       "    </tr>\n",
       "    <tr>\n",
       "      <th>top</th>\n",
       "      <td>0001_01</td>\n",
       "      <td>Earth</td>\n",
       "      <td>False</td>\n",
       "      <td>G/734/S</td>\n",
       "      <td>TRAPPIST-1e</td>\n",
       "      <td>False</td>\n",
       "      <td>Gollux Reedall</td>\n",
       "    </tr>\n",
       "    <tr>\n",
       "      <th>freq</th>\n",
       "      <td>1</td>\n",
       "      <td>4602</td>\n",
       "      <td>5439</td>\n",
       "      <td>8</td>\n",
       "      <td>5915</td>\n",
       "      <td>8291</td>\n",
       "      <td>2</td>\n",
       "    </tr>\n",
       "  </tbody>\n",
       "</table>\n",
       "</div>"
      ],
      "text/plain": [
       "       PassengerId HomePlanet CryoSleep    Cabin  Destination    VIP  \\\n",
       "count         8693       8492      8476     8494         8511   8490   \n",
       "unique        8693          3         2     6560            3      2   \n",
       "top        0001_01      Earth     False  G/734/S  TRAPPIST-1e  False   \n",
       "freq             1       4602      5439        8         5915   8291   \n",
       "\n",
       "                  Name  \n",
       "count             8493  \n",
       "unique            8473  \n",
       "top     Gollux Reedall  \n",
       "freq                 2  "
      ]
     },
     "execution_count": 6,
     "metadata": {},
     "output_type": "execute_result"
    }
   ],
   "source": [
    "### object columns info\n",
    "train.describe(include='object')"
   ]
  },
  {
   "cell_type": "markdown",
   "id": "95a6363e",
   "metadata": {
    "papermill": {
     "duration": 0.016454,
     "end_time": "2023-09-28T21:11:36.769216",
     "exception": false,
     "start_time": "2023-09-28T21:11:36.752762",
     "status": "completed"
    },
    "tags": []
   },
   "source": [
    "# Work with NaN "
   ]
  },
  {
   "cell_type": "code",
   "execution_count": 7,
   "id": "befabe21",
   "metadata": {
    "execution": {
     "iopub.execute_input": "2023-09-28T21:11:36.804366Z",
     "iopub.status.busy": "2023-09-28T21:11:36.803988Z",
     "iopub.status.idle": "2023-09-28T21:11:36.833312Z",
     "shell.execute_reply": "2023-09-28T21:11:36.832205Z"
    },
    "papermill": {
     "duration": 0.049557,
     "end_time": "2023-09-28T21:11:36.835666",
     "exception": false,
     "start_time": "2023-09-28T21:11:36.786109",
     "status": "completed"
    },
    "tags": []
   },
   "outputs": [
    {
     "data": {
      "text/plain": [
       "PassengerId       0\n",
       "HomePlanet      201\n",
       "CryoSleep       217\n",
       "Cabin           199\n",
       "Destination     182\n",
       "Age             179\n",
       "VIP             203\n",
       "RoomService     181\n",
       "FoodCourt       183\n",
       "ShoppingMall    208\n",
       "Spa             183\n",
       "VRDeck          188\n",
       "Name            200\n",
       "Transported       0\n",
       "dtype: int64"
      ]
     },
     "execution_count": 7,
     "metadata": {},
     "output_type": "execute_result"
    }
   ],
   "source": [
    "### checking columns for NaN value\n",
    "train.isna().sum()"
   ]
  },
  {
   "cell_type": "markdown",
   "id": "08995e72",
   "metadata": {
    "papermill": {
     "duration": 0.016859,
     "end_time": "2023-09-28T21:11:36.869035",
     "exception": false,
     "start_time": "2023-09-28T21:11:36.852176",
     "status": "completed"
    },
    "tags": []
   },
   "source": [
    "****Work with object columns****"
   ]
  },
  {
   "cell_type": "code",
   "execution_count": 8,
   "id": "c92406aa",
   "metadata": {
    "execution": {
     "iopub.execute_input": "2023-09-28T21:11:36.904433Z",
     "iopub.status.busy": "2023-09-28T21:11:36.904025Z",
     "iopub.status.idle": "2023-09-28T21:11:36.924204Z",
     "shell.execute_reply": "2023-09-28T21:11:36.923110Z"
    },
    "papermill": {
     "duration": 0.04097,
     "end_time": "2023-09-28T21:11:36.926795",
     "exception": false,
     "start_time": "2023-09-28T21:11:36.885825",
     "status": "completed"
    },
    "tags": []
   },
   "outputs": [],
   "source": [
    "### fill NaN value with mode\n",
    "lst = ['HomePlanet', 'CryoSleep', 'Destination', 'VIP']\n",
    "for col in lst:\n",
    "    train[col].fillna(train[col].mode()[0], inplace=True)"
   ]
  },
  {
   "cell_type": "code",
   "execution_count": 9,
   "id": "38f17b7b",
   "metadata": {
    "execution": {
     "iopub.execute_input": "2023-09-28T21:11:36.961985Z",
     "iopub.status.busy": "2023-09-28T21:11:36.961550Z",
     "iopub.status.idle": "2023-09-28T21:11:36.973722Z",
     "shell.execute_reply": "2023-09-28T21:11:36.972532Z"
    },
    "papermill": {
     "duration": 0.032907,
     "end_time": "2023-09-28T21:11:36.976288",
     "exception": false,
     "start_time": "2023-09-28T21:11:36.943381",
     "status": "completed"
    },
    "tags": []
   },
   "outputs": [],
   "source": [
    "### fill NaN forward\n",
    "train['Cabin'].fillna(method='ffill', inplace=True)"
   ]
  },
  {
   "cell_type": "markdown",
   "id": "cf7ab7a6",
   "metadata": {
    "papermill": {
     "duration": 0.016229,
     "end_time": "2023-09-28T21:11:37.009209",
     "exception": false,
     "start_time": "2023-09-28T21:11:36.992980",
     "status": "completed"
    },
    "tags": []
   },
   "source": [
    "****Works with numeric columns****"
   ]
  },
  {
   "cell_type": "code",
   "execution_count": 10,
   "id": "6ca45ed9",
   "metadata": {
    "execution": {
     "iopub.execute_input": "2023-09-28T21:11:37.044006Z",
     "iopub.status.busy": "2023-09-28T21:11:37.043596Z",
     "iopub.status.idle": "2023-09-28T21:11:37.054815Z",
     "shell.execute_reply": "2023-09-28T21:11:37.053633Z"
    },
    "papermill": {
     "duration": 0.031534,
     "end_time": "2023-09-28T21:11:37.057279",
     "exception": false,
     "start_time": "2023-09-28T21:11:37.025745",
     "status": "completed"
    },
    "tags": []
   },
   "outputs": [
    {
     "data": {
      "text/plain": [
       "CryoSleep         0\n",
       "Age             179\n",
       "VIP               0\n",
       "RoomService     181\n",
       "FoodCourt       183\n",
       "ShoppingMall    208\n",
       "Spa             183\n",
       "VRDeck          188\n",
       "Transported       0\n",
       "dtype: int64"
      ]
     },
     "execution_count": 10,
     "metadata": {},
     "output_type": "execute_result"
    }
   ],
   "source": [
    "train.select_dtypes(exclude='object').isna().sum()"
   ]
  },
  {
   "cell_type": "code",
   "execution_count": 11,
   "id": "2c1c6b54",
   "metadata": {
    "execution": {
     "iopub.execute_input": "2023-09-28T21:11:37.092594Z",
     "iopub.status.busy": "2023-09-28T21:11:37.092172Z",
     "iopub.status.idle": "2023-09-28T21:11:37.106257Z",
     "shell.execute_reply": "2023-09-28T21:11:37.104972Z"
    },
    "papermill": {
     "duration": 0.034684,
     "end_time": "2023-09-28T21:11:37.108807",
     "exception": false,
     "start_time": "2023-09-28T21:11:37.074123",
     "status": "completed"
    },
    "tags": []
   },
   "outputs": [],
   "source": [
    "### fill age by mean\n",
    "train['Age'].fillna(train['Age'].mean(), inplace=True)\n",
    "\n",
    "### fill RoomService, FoodCourt,ShoppingMall, Spa, VRDeck by median\n",
    "train['RoomService'].fillna(train['RoomService'].median(), inplace=True)\n",
    "train['FoodCourt'].fillna(train['FoodCourt'].median(), inplace=True)\n",
    "train['ShoppingMall'].fillna(train['ShoppingMall'].median(), inplace=True)\n",
    "train['Spa'].fillna(train['Spa'].median(), inplace=True)\n",
    "train['VRDeck'].fillna(train['VRDeck'].median(), inplace=True)"
   ]
  },
  {
   "cell_type": "markdown",
   "id": "2be8f275",
   "metadata": {
    "papermill": {
     "duration": 0.01726,
     "end_time": "2023-09-28T21:11:37.143230",
     "exception": false,
     "start_time": "2023-09-28T21:11:37.125970",
     "status": "completed"
    },
    "tags": []
   },
   "source": [
    "# Label Encoding"
   ]
  },
  {
   "cell_type": "code",
   "execution_count": 12,
   "id": "334a91dd",
   "metadata": {
    "execution": {
     "iopub.execute_input": "2023-09-28T21:11:37.179252Z",
     "iopub.status.busy": "2023-09-28T21:11:37.178845Z",
     "iopub.status.idle": "2023-09-28T21:11:38.419912Z",
     "shell.execute_reply": "2023-09-28T21:11:38.418886Z"
    },
    "papermill": {
     "duration": 1.262367,
     "end_time": "2023-09-28T21:11:38.422703",
     "exception": false,
     "start_time": "2023-09-28T21:11:37.160336",
     "status": "completed"
    },
    "tags": []
   },
   "outputs": [
    {
     "name": "stderr",
     "output_type": "stream",
     "text": [
      "/opt/conda/lib/python3.10/site-packages/scipy/__init__.py:146: UserWarning: A NumPy version >=1.16.5 and <1.23.0 is required for this version of SciPy (detected version 1.23.5\n",
      "  warnings.warn(f\"A NumPy version >={np_minversion} and <{np_maxversion}\"\n"
     ]
    }
   ],
   "source": [
    "from sklearn.preprocessing import LabelEncoder"
   ]
  },
  {
   "cell_type": "code",
   "execution_count": 13,
   "id": "99bdb2f0",
   "metadata": {
    "execution": {
     "iopub.execute_input": "2023-09-28T21:11:38.459673Z",
     "iopub.status.busy": "2023-09-28T21:11:38.458516Z",
     "iopub.status.idle": "2023-09-28T21:11:38.481646Z",
     "shell.execute_reply": "2023-09-28T21:11:38.480459Z"
    },
    "papermill": {
     "duration": 0.04396,
     "end_time": "2023-09-28T21:11:38.484194",
     "exception": false,
     "start_time": "2023-09-28T21:11:38.440234",
     "status": "completed"
    },
    "tags": []
   },
   "outputs": [
    {
     "data": {
      "text/html": [
       "<div>\n",
       "<style scoped>\n",
       "    .dataframe tbody tr th:only-of-type {\n",
       "        vertical-align: middle;\n",
       "    }\n",
       "\n",
       "    .dataframe tbody tr th {\n",
       "        vertical-align: top;\n",
       "    }\n",
       "\n",
       "    .dataframe thead th {\n",
       "        text-align: right;\n",
       "    }\n",
       "</style>\n",
       "<table border=\"1\" class=\"dataframe\">\n",
       "  <thead>\n",
       "    <tr style=\"text-align: right;\">\n",
       "      <th></th>\n",
       "      <th>PassengerId</th>\n",
       "      <th>HomePlanet</th>\n",
       "      <th>CryoSleep</th>\n",
       "      <th>Cabin</th>\n",
       "      <th>Destination</th>\n",
       "      <th>Age</th>\n",
       "      <th>VIP</th>\n",
       "      <th>RoomService</th>\n",
       "      <th>FoodCourt</th>\n",
       "      <th>ShoppingMall</th>\n",
       "      <th>Spa</th>\n",
       "      <th>VRDeck</th>\n",
       "      <th>Name</th>\n",
       "      <th>Transported</th>\n",
       "    </tr>\n",
       "  </thead>\n",
       "  <tbody>\n",
       "    <tr>\n",
       "      <th>0</th>\n",
       "      <td>0001_01</td>\n",
       "      <td>Europa</td>\n",
       "      <td>False</td>\n",
       "      <td>B/0/P</td>\n",
       "      <td>TRAPPIST-1e</td>\n",
       "      <td>39.0</td>\n",
       "      <td>False</td>\n",
       "      <td>0.0</td>\n",
       "      <td>0.0</td>\n",
       "      <td>0.0</td>\n",
       "      <td>0.0</td>\n",
       "      <td>0.0</td>\n",
       "      <td>Maham Ofracculy</td>\n",
       "      <td>False</td>\n",
       "    </tr>\n",
       "    <tr>\n",
       "      <th>1</th>\n",
       "      <td>0002_01</td>\n",
       "      <td>Earth</td>\n",
       "      <td>False</td>\n",
       "      <td>F/0/S</td>\n",
       "      <td>TRAPPIST-1e</td>\n",
       "      <td>24.0</td>\n",
       "      <td>False</td>\n",
       "      <td>109.0</td>\n",
       "      <td>9.0</td>\n",
       "      <td>25.0</td>\n",
       "      <td>549.0</td>\n",
       "      <td>44.0</td>\n",
       "      <td>Juanna Vines</td>\n",
       "      <td>True</td>\n",
       "    </tr>\n",
       "    <tr>\n",
       "      <th>2</th>\n",
       "      <td>0003_01</td>\n",
       "      <td>Europa</td>\n",
       "      <td>False</td>\n",
       "      <td>A/0/S</td>\n",
       "      <td>TRAPPIST-1e</td>\n",
       "      <td>58.0</td>\n",
       "      <td>True</td>\n",
       "      <td>43.0</td>\n",
       "      <td>3576.0</td>\n",
       "      <td>0.0</td>\n",
       "      <td>6715.0</td>\n",
       "      <td>49.0</td>\n",
       "      <td>Altark Susent</td>\n",
       "      <td>False</td>\n",
       "    </tr>\n",
       "    <tr>\n",
       "      <th>3</th>\n",
       "      <td>0003_02</td>\n",
       "      <td>Europa</td>\n",
       "      <td>False</td>\n",
       "      <td>A/0/S</td>\n",
       "      <td>TRAPPIST-1e</td>\n",
       "      <td>33.0</td>\n",
       "      <td>False</td>\n",
       "      <td>0.0</td>\n",
       "      <td>1283.0</td>\n",
       "      <td>371.0</td>\n",
       "      <td>3329.0</td>\n",
       "      <td>193.0</td>\n",
       "      <td>Solam Susent</td>\n",
       "      <td>False</td>\n",
       "    </tr>\n",
       "    <tr>\n",
       "      <th>4</th>\n",
       "      <td>0004_01</td>\n",
       "      <td>Earth</td>\n",
       "      <td>False</td>\n",
       "      <td>F/1/S</td>\n",
       "      <td>TRAPPIST-1e</td>\n",
       "      <td>16.0</td>\n",
       "      <td>False</td>\n",
       "      <td>303.0</td>\n",
       "      <td>70.0</td>\n",
       "      <td>151.0</td>\n",
       "      <td>565.0</td>\n",
       "      <td>2.0</td>\n",
       "      <td>Willy Santantines</td>\n",
       "      <td>True</td>\n",
       "    </tr>\n",
       "  </tbody>\n",
       "</table>\n",
       "</div>"
      ],
      "text/plain": [
       "  PassengerId HomePlanet  CryoSleep  Cabin  Destination   Age    VIP  \\\n",
       "0     0001_01     Europa      False  B/0/P  TRAPPIST-1e  39.0  False   \n",
       "1     0002_01      Earth      False  F/0/S  TRAPPIST-1e  24.0  False   \n",
       "2     0003_01     Europa      False  A/0/S  TRAPPIST-1e  58.0   True   \n",
       "3     0003_02     Europa      False  A/0/S  TRAPPIST-1e  33.0  False   \n",
       "4     0004_01      Earth      False  F/1/S  TRAPPIST-1e  16.0  False   \n",
       "\n",
       "   RoomService  FoodCourt  ShoppingMall     Spa  VRDeck               Name  \\\n",
       "0          0.0        0.0           0.0     0.0     0.0    Maham Ofracculy   \n",
       "1        109.0        9.0          25.0   549.0    44.0       Juanna Vines   \n",
       "2         43.0     3576.0           0.0  6715.0    49.0      Altark Susent   \n",
       "3          0.0     1283.0         371.0  3329.0   193.0       Solam Susent   \n",
       "4        303.0       70.0         151.0   565.0     2.0  Willy Santantines   \n",
       "\n",
       "   Transported  \n",
       "0        False  \n",
       "1         True  \n",
       "2        False  \n",
       "3        False  \n",
       "4         True  "
      ]
     },
     "execution_count": 13,
     "metadata": {},
     "output_type": "execute_result"
    }
   ],
   "source": [
    "train.head()"
   ]
  },
  {
   "cell_type": "code",
   "execution_count": 14,
   "id": "f3e38116",
   "metadata": {
    "execution": {
     "iopub.execute_input": "2023-09-28T21:11:38.520487Z",
     "iopub.status.busy": "2023-09-28T21:11:38.519484Z",
     "iopub.status.idle": "2023-09-28T21:11:38.542440Z",
     "shell.execute_reply": "2023-09-28T21:11:38.541223Z"
    },
    "papermill": {
     "duration": 0.043811,
     "end_time": "2023-09-28T21:11:38.544981",
     "exception": false,
     "start_time": "2023-09-28T21:11:38.501170",
     "status": "completed"
    },
    "tags": []
   },
   "outputs": [
    {
     "data": {
      "text/html": [
       "<div>\n",
       "<style scoped>\n",
       "    .dataframe tbody tr th:only-of-type {\n",
       "        vertical-align: middle;\n",
       "    }\n",
       "\n",
       "    .dataframe tbody tr th {\n",
       "        vertical-align: top;\n",
       "    }\n",
       "\n",
       "    .dataframe thead th {\n",
       "        text-align: right;\n",
       "    }\n",
       "</style>\n",
       "<table border=\"1\" class=\"dataframe\">\n",
       "  <thead>\n",
       "    <tr style=\"text-align: right;\">\n",
       "      <th></th>\n",
       "      <th>PassengerId</th>\n",
       "      <th>HomePlanet</th>\n",
       "      <th>CryoSleep</th>\n",
       "      <th>Cabin</th>\n",
       "      <th>Destination</th>\n",
       "      <th>Age</th>\n",
       "      <th>VIP</th>\n",
       "      <th>RoomService</th>\n",
       "      <th>FoodCourt</th>\n",
       "      <th>ShoppingMall</th>\n",
       "      <th>Spa</th>\n",
       "      <th>VRDeck</th>\n",
       "      <th>Name</th>\n",
       "      <th>Transported</th>\n",
       "    </tr>\n",
       "  </thead>\n",
       "  <tbody>\n",
       "    <tr>\n",
       "      <th>0</th>\n",
       "      <td>0001_01</td>\n",
       "      <td>Europa</td>\n",
       "      <td>False</td>\n",
       "      <td>B/0/P</td>\n",
       "      <td>TRAPPIST-1e</td>\n",
       "      <td>39.0</td>\n",
       "      <td>False</td>\n",
       "      <td>0.0</td>\n",
       "      <td>0.0</td>\n",
       "      <td>0.0</td>\n",
       "      <td>0.0</td>\n",
       "      <td>0.0</td>\n",
       "      <td>Maham Ofracculy</td>\n",
       "      <td>0</td>\n",
       "    </tr>\n",
       "    <tr>\n",
       "      <th>1</th>\n",
       "      <td>0002_01</td>\n",
       "      <td>Earth</td>\n",
       "      <td>False</td>\n",
       "      <td>F/0/S</td>\n",
       "      <td>TRAPPIST-1e</td>\n",
       "      <td>24.0</td>\n",
       "      <td>False</td>\n",
       "      <td>109.0</td>\n",
       "      <td>9.0</td>\n",
       "      <td>25.0</td>\n",
       "      <td>549.0</td>\n",
       "      <td>44.0</td>\n",
       "      <td>Juanna Vines</td>\n",
       "      <td>1</td>\n",
       "    </tr>\n",
       "    <tr>\n",
       "      <th>2</th>\n",
       "      <td>0003_01</td>\n",
       "      <td>Europa</td>\n",
       "      <td>False</td>\n",
       "      <td>A/0/S</td>\n",
       "      <td>TRAPPIST-1e</td>\n",
       "      <td>58.0</td>\n",
       "      <td>True</td>\n",
       "      <td>43.0</td>\n",
       "      <td>3576.0</td>\n",
       "      <td>0.0</td>\n",
       "      <td>6715.0</td>\n",
       "      <td>49.0</td>\n",
       "      <td>Altark Susent</td>\n",
       "      <td>0</td>\n",
       "    </tr>\n",
       "    <tr>\n",
       "      <th>3</th>\n",
       "      <td>0003_02</td>\n",
       "      <td>Europa</td>\n",
       "      <td>False</td>\n",
       "      <td>A/0/S</td>\n",
       "      <td>TRAPPIST-1e</td>\n",
       "      <td>33.0</td>\n",
       "      <td>False</td>\n",
       "      <td>0.0</td>\n",
       "      <td>1283.0</td>\n",
       "      <td>371.0</td>\n",
       "      <td>3329.0</td>\n",
       "      <td>193.0</td>\n",
       "      <td>Solam Susent</td>\n",
       "      <td>0</td>\n",
       "    </tr>\n",
       "    <tr>\n",
       "      <th>4</th>\n",
       "      <td>0004_01</td>\n",
       "      <td>Earth</td>\n",
       "      <td>False</td>\n",
       "      <td>F/1/S</td>\n",
       "      <td>TRAPPIST-1e</td>\n",
       "      <td>16.0</td>\n",
       "      <td>False</td>\n",
       "      <td>303.0</td>\n",
       "      <td>70.0</td>\n",
       "      <td>151.0</td>\n",
       "      <td>565.0</td>\n",
       "      <td>2.0</td>\n",
       "      <td>Willy Santantines</td>\n",
       "      <td>1</td>\n",
       "    </tr>\n",
       "  </tbody>\n",
       "</table>\n",
       "</div>"
      ],
      "text/plain": [
       "  PassengerId HomePlanet  CryoSleep  Cabin  Destination   Age    VIP  \\\n",
       "0     0001_01     Europa      False  B/0/P  TRAPPIST-1e  39.0  False   \n",
       "1     0002_01      Earth      False  F/0/S  TRAPPIST-1e  24.0  False   \n",
       "2     0003_01     Europa      False  A/0/S  TRAPPIST-1e  58.0   True   \n",
       "3     0003_02     Europa      False  A/0/S  TRAPPIST-1e  33.0  False   \n",
       "4     0004_01      Earth      False  F/1/S  TRAPPIST-1e  16.0  False   \n",
       "\n",
       "   RoomService  FoodCourt  ShoppingMall     Spa  VRDeck               Name  \\\n",
       "0          0.0        0.0           0.0     0.0     0.0    Maham Ofracculy   \n",
       "1        109.0        9.0          25.0   549.0    44.0       Juanna Vines   \n",
       "2         43.0     3576.0           0.0  6715.0    49.0      Altark Susent   \n",
       "3          0.0     1283.0         371.0  3329.0   193.0       Solam Susent   \n",
       "4        303.0       70.0         151.0   565.0     2.0  Willy Santantines   \n",
       "\n",
       "   Transported  \n",
       "0            0  \n",
       "1            1  \n",
       "2            0  \n",
       "3            0  \n",
       "4            1  "
      ]
     },
     "execution_count": 14,
     "metadata": {},
     "output_type": "execute_result"
    }
   ],
   "source": [
    "### Transported has a bool type -> change to int\n",
    "train['Transported'] = train['Transported'].astype(int)\n",
    "train.head()"
   ]
  },
  {
   "cell_type": "code",
   "execution_count": 15,
   "id": "39120ebf",
   "metadata": {
    "execution": {
     "iopub.execute_input": "2023-09-28T21:11:38.581784Z",
     "iopub.status.busy": "2023-09-28T21:11:38.581365Z",
     "iopub.status.idle": "2023-09-28T21:11:38.624101Z",
     "shell.execute_reply": "2023-09-28T21:11:38.623263Z"
    },
    "papermill": {
     "duration": 0.063446,
     "end_time": "2023-09-28T21:11:38.626124",
     "exception": false,
     "start_time": "2023-09-28T21:11:38.562678",
     "status": "completed"
    },
    "tags": []
   },
   "outputs": [
    {
     "data": {
      "text/html": [
       "<div>\n",
       "<style scoped>\n",
       "    .dataframe tbody tr th:only-of-type {\n",
       "        vertical-align: middle;\n",
       "    }\n",
       "\n",
       "    .dataframe tbody tr th {\n",
       "        vertical-align: top;\n",
       "    }\n",
       "\n",
       "    .dataframe thead th {\n",
       "        text-align: right;\n",
       "    }\n",
       "</style>\n",
       "<table border=\"1\" class=\"dataframe\">\n",
       "  <thead>\n",
       "    <tr style=\"text-align: right;\">\n",
       "      <th></th>\n",
       "      <th>PassengerId</th>\n",
       "      <th>HomePlanet</th>\n",
       "      <th>Cabin</th>\n",
       "      <th>Destination</th>\n",
       "      <th>Name</th>\n",
       "    </tr>\n",
       "  </thead>\n",
       "  <tbody>\n",
       "    <tr>\n",
       "      <th>count</th>\n",
       "      <td>8693</td>\n",
       "      <td>8693</td>\n",
       "      <td>8693</td>\n",
       "      <td>8693</td>\n",
       "      <td>8493</td>\n",
       "    </tr>\n",
       "    <tr>\n",
       "      <th>unique</th>\n",
       "      <td>8693</td>\n",
       "      <td>3</td>\n",
       "      <td>6560</td>\n",
       "      <td>3</td>\n",
       "      <td>8473</td>\n",
       "    </tr>\n",
       "    <tr>\n",
       "      <th>top</th>\n",
       "      <td>0001_01</td>\n",
       "      <td>Earth</td>\n",
       "      <td>G/734/S</td>\n",
       "      <td>TRAPPIST-1e</td>\n",
       "      <td>Gollux Reedall</td>\n",
       "    </tr>\n",
       "    <tr>\n",
       "      <th>freq</th>\n",
       "      <td>1</td>\n",
       "      <td>4803</td>\n",
       "      <td>8</td>\n",
       "      <td>6097</td>\n",
       "      <td>2</td>\n",
       "    </tr>\n",
       "  </tbody>\n",
       "</table>\n",
       "</div>"
      ],
      "text/plain": [
       "       PassengerId HomePlanet    Cabin  Destination            Name\n",
       "count         8693       8693     8693         8693            8493\n",
       "unique        8693          3     6560            3            8473\n",
       "top        0001_01      Earth  G/734/S  TRAPPIST-1e  Gollux Reedall\n",
       "freq             1       4803        8         6097               2"
      ]
     },
     "execution_count": 15,
     "metadata": {},
     "output_type": "execute_result"
    }
   ],
   "source": [
    "train.describe(include='object')"
   ]
  },
  {
   "cell_type": "code",
   "execution_count": 16,
   "id": "92af9a95",
   "metadata": {
    "execution": {
     "iopub.execute_input": "2023-09-28T21:11:38.663697Z",
     "iopub.status.busy": "2023-09-28T21:11:38.662984Z",
     "iopub.status.idle": "2023-09-28T21:11:38.677189Z",
     "shell.execute_reply": "2023-09-28T21:11:38.676248Z"
    },
    "papermill": {
     "duration": 0.035892,
     "end_time": "2023-09-28T21:11:38.679638",
     "exception": false,
     "start_time": "2023-09-28T21:11:38.643746",
     "status": "completed"
    },
    "tags": []
   },
   "outputs": [],
   "source": [
    "### VIP: 2 values, HomePlanet: 3 values, Destination: 3 values\n",
    "le = LabelEncoder()\n",
    "\n",
    "col_encoding = ['HomePlanet', 'Destination', 'VIP']\n",
    "for col in col_encoding:\n",
    "    if col in train.columns:\n",
    "        train[col] = le.fit_transform(train[col])"
   ]
  },
  {
   "cell_type": "code",
   "execution_count": 17,
   "id": "112491a5",
   "metadata": {
    "execution": {
     "iopub.execute_input": "2023-09-28T21:11:38.717173Z",
     "iopub.status.busy": "2023-09-28T21:11:38.716502Z",
     "iopub.status.idle": "2023-09-28T21:11:38.726788Z",
     "shell.execute_reply": "2023-09-28T21:11:38.725724Z"
    },
    "papermill": {
     "duration": 0.031621,
     "end_time": "2023-09-28T21:11:38.729047",
     "exception": false,
     "start_time": "2023-09-28T21:11:38.697426",
     "status": "completed"
    },
    "tags": []
   },
   "outputs": [
    {
     "data": {
      "text/plain": [
       "0        0.0\n",
       "1      736.0\n",
       "2    10383.0\n",
       "3     5176.0\n",
       "4     1091.0\n",
       "Name: TotalAmount, dtype: float64"
      ]
     },
     "execution_count": 17,
     "metadata": {},
     "output_type": "execute_result"
    }
   ],
   "source": [
    "### add new col -> total amount the passenger has billed  -> sum of [RoomService, FoodCourt, ShoppingMall, Spa, VRDeck]\n",
    "train['TotalAmount'] = train['RoomService'] + train['FoodCourt'] + train['ShoppingMall'] + train['Spa'] + train['VRDeck']\n",
    "train['TotalAmount'].head()"
   ]
  },
  {
   "cell_type": "code",
   "execution_count": 18,
   "id": "c2252e06",
   "metadata": {
    "execution": {
     "iopub.execute_input": "2023-09-28T21:11:38.767223Z",
     "iopub.status.busy": "2023-09-28T21:11:38.766454Z",
     "iopub.status.idle": "2023-09-28T21:11:38.791242Z",
     "shell.execute_reply": "2023-09-28T21:11:38.789887Z"
    },
    "papermill": {
     "duration": 0.046766,
     "end_time": "2023-09-28T21:11:38.793678",
     "exception": false,
     "start_time": "2023-09-28T21:11:38.746912",
     "status": "completed"
    },
    "tags": []
   },
   "outputs": [],
   "source": [
    "### Cabin - The cabin number where the passenger is staying. Takes the form deck/num/side, where side can be either P for Port or S for Starboard.\n",
    "### split Cabin tp 3 label\n",
    "train['Cabin_deck'] = train['Cabin'].apply(lambda x:x.split('/')[0])\n",
    "train['Cabin_num'] = train['Cabin'].apply(lambda x:x.split('/')[1]).astype(np.number)\n",
    "train['Cabin_side'] = train['Cabin'].apply(lambda x:x.split('/')[2])"
   ]
  },
  {
   "cell_type": "code",
   "execution_count": 19,
   "id": "e285fe1d",
   "metadata": {
    "execution": {
     "iopub.execute_input": "2023-09-28T21:11:38.830904Z",
     "iopub.status.busy": "2023-09-28T21:11:38.830456Z",
     "iopub.status.idle": "2023-09-28T21:11:38.837549Z",
     "shell.execute_reply": "2023-09-28T21:11:38.836374Z"
    },
    "papermill": {
     "duration": 0.028086,
     "end_time": "2023-09-28T21:11:38.839663",
     "exception": false,
     "start_time": "2023-09-28T21:11:38.811577",
     "status": "completed"
    },
    "tags": []
   },
   "outputs": [],
   "source": [
    "### add IsAdult according to Age column\n",
    "train['IsAdult'] = np.where(train['Age'] < 19, 0, 1)"
   ]
  },
  {
   "cell_type": "code",
   "execution_count": 20,
   "id": "77e3ef73",
   "metadata": {
    "execution": {
     "iopub.execute_input": "2023-09-28T21:11:38.877147Z",
     "iopub.status.busy": "2023-09-28T21:11:38.876749Z",
     "iopub.status.idle": "2023-09-28T21:11:38.902546Z",
     "shell.execute_reply": "2023-09-28T21:11:38.901409Z"
    },
    "papermill": {
     "duration": 0.04742,
     "end_time": "2023-09-28T21:11:38.904755",
     "exception": false,
     "start_time": "2023-09-28T21:11:38.857335",
     "status": "completed"
    },
    "tags": []
   },
   "outputs": [
    {
     "data": {
      "text/html": [
       "<div>\n",
       "<style scoped>\n",
       "    .dataframe tbody tr th:only-of-type {\n",
       "        vertical-align: middle;\n",
       "    }\n",
       "\n",
       "    .dataframe tbody tr th {\n",
       "        vertical-align: top;\n",
       "    }\n",
       "\n",
       "    .dataframe thead th {\n",
       "        text-align: right;\n",
       "    }\n",
       "</style>\n",
       "<table border=\"1\" class=\"dataframe\">\n",
       "  <thead>\n",
       "    <tr style=\"text-align: right;\">\n",
       "      <th></th>\n",
       "      <th>PassengerId</th>\n",
       "      <th>HomePlanet</th>\n",
       "      <th>CryoSleep</th>\n",
       "      <th>Cabin</th>\n",
       "      <th>Destination</th>\n",
       "      <th>Age</th>\n",
       "      <th>VIP</th>\n",
       "      <th>RoomService</th>\n",
       "      <th>FoodCourt</th>\n",
       "      <th>ShoppingMall</th>\n",
       "      <th>Spa</th>\n",
       "      <th>VRDeck</th>\n",
       "      <th>Name</th>\n",
       "      <th>Transported</th>\n",
       "      <th>TotalAmount</th>\n",
       "      <th>Cabin_deck</th>\n",
       "      <th>Cabin_num</th>\n",
       "      <th>Cabin_side</th>\n",
       "      <th>IsAdult</th>\n",
       "    </tr>\n",
       "  </thead>\n",
       "  <tbody>\n",
       "    <tr>\n",
       "      <th>0</th>\n",
       "      <td>0001_01</td>\n",
       "      <td>1</td>\n",
       "      <td>False</td>\n",
       "      <td>B/0/P</td>\n",
       "      <td>2</td>\n",
       "      <td>39.0</td>\n",
       "      <td>0</td>\n",
       "      <td>0.0</td>\n",
       "      <td>0.0</td>\n",
       "      <td>0.0</td>\n",
       "      <td>0.0</td>\n",
       "      <td>0.0</td>\n",
       "      <td>Maham Ofracculy</td>\n",
       "      <td>0</td>\n",
       "      <td>0.0</td>\n",
       "      <td>B</td>\n",
       "      <td>0.0</td>\n",
       "      <td>P</td>\n",
       "      <td>1</td>\n",
       "    </tr>\n",
       "    <tr>\n",
       "      <th>1</th>\n",
       "      <td>0002_01</td>\n",
       "      <td>0</td>\n",
       "      <td>False</td>\n",
       "      <td>F/0/S</td>\n",
       "      <td>2</td>\n",
       "      <td>24.0</td>\n",
       "      <td>0</td>\n",
       "      <td>109.0</td>\n",
       "      <td>9.0</td>\n",
       "      <td>25.0</td>\n",
       "      <td>549.0</td>\n",
       "      <td>44.0</td>\n",
       "      <td>Juanna Vines</td>\n",
       "      <td>1</td>\n",
       "      <td>736.0</td>\n",
       "      <td>F</td>\n",
       "      <td>0.0</td>\n",
       "      <td>S</td>\n",
       "      <td>1</td>\n",
       "    </tr>\n",
       "    <tr>\n",
       "      <th>2</th>\n",
       "      <td>0003_01</td>\n",
       "      <td>1</td>\n",
       "      <td>False</td>\n",
       "      <td>A/0/S</td>\n",
       "      <td>2</td>\n",
       "      <td>58.0</td>\n",
       "      <td>1</td>\n",
       "      <td>43.0</td>\n",
       "      <td>3576.0</td>\n",
       "      <td>0.0</td>\n",
       "      <td>6715.0</td>\n",
       "      <td>49.0</td>\n",
       "      <td>Altark Susent</td>\n",
       "      <td>0</td>\n",
       "      <td>10383.0</td>\n",
       "      <td>A</td>\n",
       "      <td>0.0</td>\n",
       "      <td>S</td>\n",
       "      <td>1</td>\n",
       "    </tr>\n",
       "    <tr>\n",
       "      <th>3</th>\n",
       "      <td>0003_02</td>\n",
       "      <td>1</td>\n",
       "      <td>False</td>\n",
       "      <td>A/0/S</td>\n",
       "      <td>2</td>\n",
       "      <td>33.0</td>\n",
       "      <td>0</td>\n",
       "      <td>0.0</td>\n",
       "      <td>1283.0</td>\n",
       "      <td>371.0</td>\n",
       "      <td>3329.0</td>\n",
       "      <td>193.0</td>\n",
       "      <td>Solam Susent</td>\n",
       "      <td>0</td>\n",
       "      <td>5176.0</td>\n",
       "      <td>A</td>\n",
       "      <td>0.0</td>\n",
       "      <td>S</td>\n",
       "      <td>1</td>\n",
       "    </tr>\n",
       "    <tr>\n",
       "      <th>4</th>\n",
       "      <td>0004_01</td>\n",
       "      <td>0</td>\n",
       "      <td>False</td>\n",
       "      <td>F/1/S</td>\n",
       "      <td>2</td>\n",
       "      <td>16.0</td>\n",
       "      <td>0</td>\n",
       "      <td>303.0</td>\n",
       "      <td>70.0</td>\n",
       "      <td>151.0</td>\n",
       "      <td>565.0</td>\n",
       "      <td>2.0</td>\n",
       "      <td>Willy Santantines</td>\n",
       "      <td>1</td>\n",
       "      <td>1091.0</td>\n",
       "      <td>F</td>\n",
       "      <td>1.0</td>\n",
       "      <td>S</td>\n",
       "      <td>0</td>\n",
       "    </tr>\n",
       "  </tbody>\n",
       "</table>\n",
       "</div>"
      ],
      "text/plain": [
       "  PassengerId  HomePlanet  CryoSleep  Cabin  Destination   Age  VIP  \\\n",
       "0     0001_01           1      False  B/0/P            2  39.0    0   \n",
       "1     0002_01           0      False  F/0/S            2  24.0    0   \n",
       "2     0003_01           1      False  A/0/S            2  58.0    1   \n",
       "3     0003_02           1      False  A/0/S            2  33.0    0   \n",
       "4     0004_01           0      False  F/1/S            2  16.0    0   \n",
       "\n",
       "   RoomService  FoodCourt  ShoppingMall     Spa  VRDeck               Name  \\\n",
       "0          0.0        0.0           0.0     0.0     0.0    Maham Ofracculy   \n",
       "1        109.0        9.0          25.0   549.0    44.0       Juanna Vines   \n",
       "2         43.0     3576.0           0.0  6715.0    49.0      Altark Susent   \n",
       "3          0.0     1283.0         371.0  3329.0   193.0       Solam Susent   \n",
       "4        303.0       70.0         151.0   565.0     2.0  Willy Santantines   \n",
       "\n",
       "   Transported  TotalAmount Cabin_deck  Cabin_num Cabin_side  IsAdult  \n",
       "0            0          0.0          B        0.0          P        1  \n",
       "1            1        736.0          F        0.0          S        1  \n",
       "2            0      10383.0          A        0.0          S        1  \n",
       "3            0       5176.0          A        0.0          S        1  \n",
       "4            1       1091.0          F        1.0          S        0  "
      ]
     },
     "execution_count": 20,
     "metadata": {},
     "output_type": "execute_result"
    }
   ],
   "source": [
    "train.head()"
   ]
  },
  {
   "cell_type": "markdown",
   "id": "b48e2ff1",
   "metadata": {
    "papermill": {
     "duration": 0.017481,
     "end_time": "2023-09-28T21:11:38.940123",
     "exception": false,
     "start_time": "2023-09-28T21:11:38.922642",
     "status": "completed"
    },
    "tags": []
   },
   "source": [
    "# EDA"
   ]
  },
  {
   "cell_type": "code",
   "execution_count": 21,
   "id": "156b28b9",
   "metadata": {
    "execution": {
     "iopub.execute_input": "2023-09-28T21:11:38.977338Z",
     "iopub.status.busy": "2023-09-28T21:11:38.976943Z",
     "iopub.status.idle": "2023-09-28T21:11:39.451320Z",
     "shell.execute_reply": "2023-09-28T21:11:39.450069Z"
    },
    "papermill": {
     "duration": 0.496662,
     "end_time": "2023-09-28T21:11:39.454235",
     "exception": false,
     "start_time": "2023-09-28T21:11:38.957573",
     "status": "completed"
    },
    "tags": []
   },
   "outputs": [],
   "source": [
    "import matplotlib.pyplot as plt\n",
    "import seaborn as sns"
   ]
  },
  {
   "cell_type": "code",
   "execution_count": 22,
   "id": "b57f9a50",
   "metadata": {
    "execution": {
     "iopub.execute_input": "2023-09-28T21:11:39.492860Z",
     "iopub.status.busy": "2023-09-28T21:11:39.492428Z",
     "iopub.status.idle": "2023-09-28T21:11:40.710793Z",
     "shell.execute_reply": "2023-09-28T21:11:40.709642Z"
    },
    "papermill": {
     "duration": 1.240787,
     "end_time": "2023-09-28T21:11:40.713471",
     "exception": false,
     "start_time": "2023-09-28T21:11:39.472684",
     "status": "completed"
    },
    "tags": []
   },
   "outputs": [
    {
     "name": "stderr",
     "output_type": "stream",
     "text": [
      "/tmp/ipykernel_20/218314558.py:4: FutureWarning: The default value of numeric_only in DataFrame.corr is deprecated. In a future version, it will default to False. Select only valid columns or specify the value of numeric_only to silence this warning.\n",
      "  cols = train.corr().nlargest(k, 'Transported')['Transported'].index\n"
     ]
    },
    {
     "data": {
      "text/plain": [
       "Text(0.5, 1.0, 'Correlation Heatmap')"
      ]
     },
     "execution_count": 22,
     "metadata": {},
     "output_type": "execute_result"
    },
    {
     "data": {
      "image/png": "[encoded data removed]",
      "text/plain": [
       "<Figure size 1400x600 with 2 Axes>"
      ]
     },
     "metadata": {},
     "output_type": "display_data"
    }
   ],
   "source": [
    "### create heatmap\n",
    "numeric_columns = train.loc[:,train.dtypes!=object].columns\n",
    "k = len(numeric_columns)\n",
    "cols = train.corr().nlargest(k, 'Transported')['Transported'].index\n",
    "cm = train[cols].corr()\n",
    "\n",
    "plt.figure(figsize=(14,6))\n",
    "sns.heatmap(data=cm, annot=True)\n",
    "plt.title('Correlation Heatmap')"
   ]
  },
  {
   "cell_type": "code",
   "execution_count": 23,
   "id": "1b8d81cc",
   "metadata": {
    "execution": {
     "iopub.execute_input": "2023-09-28T21:11:40.757532Z",
     "iopub.status.busy": "2023-09-28T21:11:40.757092Z",
     "iopub.status.idle": "2023-09-28T21:11:43.646452Z",
     "shell.execute_reply": "2023-09-28T21:11:43.645597Z"
    },
    "papermill": {
     "duration": 2.91482,
     "end_time": "2023-09-28T21:11:43.649287",
     "exception": false,
     "start_time": "2023-09-28T21:11:40.734467",
     "status": "completed"
    },
    "tags": []
   },
   "outputs": [
    {
     "data": {
      "image/png": "[encoded data removed]",
      "text/plain": [
       "<Figure size 1600x1000 with 8 Axes>"
      ]
     },
     "metadata": {},
     "output_type": "display_data"
    }
   ],
   "source": [
    "ax_columns = ['Age', 'FoodCourt', 'ShoppingMall', 'Cabin_num', 'TotalAmount', 'VRDeck', 'Spa', 'RoomService']\n",
    "\n",
    "fig, axs = plt.subplots(nrows=4, ncols=2, figsize=(16,10))\n",
    "plt.subplots_adjust(hspace=1)\n",
    "\n",
    "for column, ax in zip(ax_columns, axs.ravel()):\n",
    "    sns.histplot(train[column], kde = True, bins = 50, ax = ax)\n"
   ]
  },
  {
   "cell_type": "code",
   "execution_count": 24,
   "id": "a204afd2",
   "metadata": {
    "execution": {
     "iopub.execute_input": "2023-09-28T21:11:43.696936Z",
     "iopub.status.busy": "2023-09-28T21:11:43.696238Z",
     "iopub.status.idle": "2023-09-28T21:11:43.913584Z",
     "shell.execute_reply": "2023-09-28T21:11:43.912425Z"
    },
    "papermill": {
     "duration": 0.244399,
     "end_time": "2023-09-28T21:11:43.916031",
     "exception": false,
     "start_time": "2023-09-28T21:11:43.671632",
     "status": "completed"
    },
    "tags": []
   },
   "outputs": [
    {
     "data": {
      "text/plain": [
       "<Axes: xlabel='Transported', ylabel='count'>"
      ]
     },
     "execution_count": 24,
     "metadata": {},
     "output_type": "execute_result"
    },
    {
     "data": {
      "image/png": "[encoded data removed]",
      "text/plain": [
       "<Figure size 640x480 with 1 Axes>"
      ]
     },
     "metadata": {},
     "output_type": "display_data"
    }
   ],
   "source": [
    "sns.countplot(x = 'Transported', data = train)"
   ]
  },
  {
   "cell_type": "markdown",
   "id": "80bd2f67",
   "metadata": {
    "papermill": {
     "duration": 0.022744,
     "end_time": "2023-09-28T21:11:43.962274",
     "exception": false,
     "start_time": "2023-09-28T21:11:43.939530",
     "status": "completed"
    },
    "tags": []
   },
   "source": [
    "# Modelling"
   ]
  },
  {
   "cell_type": "code",
   "execution_count": 25,
   "id": "db429160",
   "metadata": {
    "execution": {
     "iopub.execute_input": "2023-09-28T21:11:44.010261Z",
     "iopub.status.busy": "2023-09-28T21:11:44.009842Z",
     "iopub.status.idle": "2023-09-28T21:11:44.528247Z",
     "shell.execute_reply": "2023-09-28T21:11:44.527025Z"
    },
    "papermill": {
     "duration": 0.545621,
     "end_time": "2023-09-28T21:11:44.531030",
     "exception": false,
     "start_time": "2023-09-28T21:11:43.985409",
     "status": "completed"
    },
    "tags": []
   },
   "outputs": [],
   "source": [
    "from sklearn.model_selection import train_test_split\n",
    "from sklearn.ensemble import RandomForestClassifier\n",
    "from sklearn.metrics import accuracy_score"
   ]
  },
  {
   "cell_type": "code",
   "execution_count": 26,
   "id": "afb7e75f",
   "metadata": {
    "execution": {
     "iopub.execute_input": "2023-09-28T21:11:44.579300Z",
     "iopub.status.busy": "2023-09-28T21:11:44.578864Z",
     "iopub.status.idle": "2023-09-28T21:11:44.584906Z",
     "shell.execute_reply": "2023-09-28T21:11:44.583872Z"
    },
    "papermill": {
     "duration": 0.032985,
     "end_time": "2023-09-28T21:11:44.587166",
     "exception": false,
     "start_time": "2023-09-28T21:11:44.554181",
     "status": "completed"
    },
    "tags": []
   },
   "outputs": [],
   "source": [
    "train['CryoSleep'] = train['CryoSleep'].astype(int)"
   ]
  },
  {
   "cell_type": "code",
   "execution_count": 27,
   "id": "0c5bc5bf",
   "metadata": {
    "execution": {
     "iopub.execute_input": "2023-09-28T21:11:44.637432Z",
     "iopub.status.busy": "2023-09-28T21:11:44.636999Z",
     "iopub.status.idle": "2023-09-28T21:11:44.666628Z",
     "shell.execute_reply": "2023-09-28T21:11:44.665508Z"
    },
    "papermill": {
     "duration": 0.058741,
     "end_time": "2023-09-28T21:11:44.669304",
     "exception": false,
     "start_time": "2023-09-28T21:11:44.610563",
     "status": "completed"
    },
    "tags": []
   },
   "outputs": [
    {
     "name": "stdout",
     "output_type": "stream",
     "text": [
      "<class 'pandas.core.frame.DataFrame'>\n",
      "RangeIndex: 8693 entries, 0 to 8692\n",
      "Data columns (total 19 columns):\n",
      " #   Column        Non-Null Count  Dtype  \n",
      "---  ------        --------------  -----  \n",
      " 0   PassengerId   8693 non-null   object \n",
      " 1   HomePlanet    8693 non-null   int64  \n",
      " 2   CryoSleep     8693 non-null   int64  \n",
      " 3   Cabin         8693 non-null   object \n",
      " 4   Destination   8693 non-null   int64  \n",
      " 5   Age           8693 non-null   float64\n",
      " 6   VIP           8693 non-null   int64  \n",
      " 7   RoomService   8693 non-null   float64\n",
      " 8   FoodCourt     8693 non-null   float64\n",
      " 9   ShoppingMall  8693 non-null   float64\n",
      " 10  Spa           8693 non-null   float64\n",
      " 11  VRDeck        8693 non-null   float64\n",
      " 12  Name          8493 non-null   object \n",
      " 13  Transported   8693 non-null   int64  \n",
      " 14  TotalAmount   8693 non-null   float64\n",
      " 15  Cabin_deck    8693 non-null   object \n",
      " 16  Cabin_num     8693 non-null   float64\n",
      " 17  Cabin_side    8693 non-null   object \n",
      " 18  IsAdult       8693 non-null   int64  \n",
      "dtypes: float64(8), int64(6), object(5)\n",
      "memory usage: 1.3+ MB\n"
     ]
    }
   ],
   "source": [
    "train.info()"
   ]
  },
  {
   "cell_type": "code",
   "execution_count": 28,
   "id": "d3a78a13",
   "metadata": {
    "execution": {
     "iopub.execute_input": "2023-09-28T21:11:44.718215Z",
     "iopub.status.busy": "2023-09-28T21:11:44.717794Z",
     "iopub.status.idle": "2023-09-28T21:11:45.969975Z",
     "shell.execute_reply": "2023-09-28T21:11:45.968610Z"
    },
    "papermill": {
     "duration": 1.280116,
     "end_time": "2023-09-28T21:11:45.972930",
     "exception": false,
     "start_time": "2023-09-28T21:11:44.692814",
     "status": "completed"
    },
    "tags": []
   },
   "outputs": [
    {
     "name": "stdout",
     "output_type": "stream",
     "text": [
      "Accuracy: 0.7734330074755607\n"
     ]
    }
   ],
   "source": [
    "X = train.drop(['PassengerId', 'Name', 'Transported', 'Cabin_deck', 'Cabin_side', 'Cabin'], axis=1)\n",
    "y = train['Transported']\n",
    "\n",
    "x_train, x_test, y_train, y_test = train_test_split(X, y, test_size=0.2, random_state=42)\n",
    "\n",
    "\n",
    "rfc = RandomForestClassifier(random_state=42)\n",
    "\n",
    "rfc.fit(x_train, y_train)\n",
    "\n",
    "y_test_pred = rfc.predict(x_test)\n",
    "\n",
    "\n",
    "print('Accuracy:', accuracy_score(y_test, y_test_pred))"
   ]
  },
  {
   "cell_type": "markdown",
   "id": "b272b57b",
   "metadata": {
    "papermill": {
     "duration": 0.022796,
     "end_time": "2023-09-28T21:11:46.019733",
     "exception": false,
     "start_time": "2023-09-28T21:11:45.996937",
     "status": "completed"
    },
    "tags": []
   },
   "source": [
    "# Test data"
   ]
  },
  {
   "cell_type": "code",
   "execution_count": 29,
   "id": "528b4ee1",
   "metadata": {
    "execution": {
     "iopub.execute_input": "2023-09-28T21:11:46.066543Z",
     "iopub.status.busy": "2023-09-28T21:11:46.066116Z",
     "iopub.status.idle": "2023-09-28T21:11:46.116838Z",
     "shell.execute_reply": "2023-09-28T21:11:46.115994Z"
    },
    "papermill": {
     "duration": 0.076909,
     "end_time": "2023-09-28T21:11:46.119072",
     "exception": false,
     "start_time": "2023-09-28T21:11:46.042163",
     "status": "completed"
    },
    "tags": []
   },
   "outputs": [
    {
     "data": {
      "text/html": [
       "<div>\n",
       "<style scoped>\n",
       "    .dataframe tbody tr th:only-of-type {\n",
       "        vertical-align: middle;\n",
       "    }\n",
       "\n",
       "    .dataframe tbody tr th {\n",
       "        vertical-align: top;\n",
       "    }\n",
       "\n",
       "    .dataframe thead th {\n",
       "        text-align: right;\n",
       "    }\n",
       "</style>\n",
       "<table border=\"1\" class=\"dataframe\">\n",
       "  <thead>\n",
       "    <tr style=\"text-align: right;\">\n",
       "      <th></th>\n",
       "      <th>PassengerId</th>\n",
       "      <th>HomePlanet</th>\n",
       "      <th>CryoSleep</th>\n",
       "      <th>Cabin</th>\n",
       "      <th>Destination</th>\n",
       "      <th>Age</th>\n",
       "      <th>VIP</th>\n",
       "      <th>RoomService</th>\n",
       "      <th>FoodCourt</th>\n",
       "      <th>ShoppingMall</th>\n",
       "      <th>Spa</th>\n",
       "      <th>VRDeck</th>\n",
       "      <th>Name</th>\n",
       "    </tr>\n",
       "  </thead>\n",
       "  <tbody>\n",
       "    <tr>\n",
       "      <th>0</th>\n",
       "      <td>0013_01</td>\n",
       "      <td>Earth</td>\n",
       "      <td>True</td>\n",
       "      <td>G/3/S</td>\n",
       "      <td>TRAPPIST-1e</td>\n",
       "      <td>27.0</td>\n",
       "      <td>False</td>\n",
       "      <td>0.0</td>\n",
       "      <td>0.0</td>\n",
       "      <td>0.0</td>\n",
       "      <td>0.0</td>\n",
       "      <td>0.0</td>\n",
       "      <td>Nelly Carsoning</td>\n",
       "    </tr>\n",
       "    <tr>\n",
       "      <th>1</th>\n",
       "      <td>0018_01</td>\n",
       "      <td>Earth</td>\n",
       "      <td>False</td>\n",
       "      <td>F/4/S</td>\n",
       "      <td>TRAPPIST-1e</td>\n",
       "      <td>19.0</td>\n",
       "      <td>False</td>\n",
       "      <td>0.0</td>\n",
       "      <td>9.0</td>\n",
       "      <td>0.0</td>\n",
       "      <td>2823.0</td>\n",
       "      <td>0.0</td>\n",
       "      <td>Lerome Peckers</td>\n",
       "    </tr>\n",
       "    <tr>\n",
       "      <th>2</th>\n",
       "      <td>0019_01</td>\n",
       "      <td>Europa</td>\n",
       "      <td>True</td>\n",
       "      <td>C/0/S</td>\n",
       "      <td>55 Cancri e</td>\n",
       "      <td>31.0</td>\n",
       "      <td>False</td>\n",
       "      <td>0.0</td>\n",
       "      <td>0.0</td>\n",
       "      <td>0.0</td>\n",
       "      <td>0.0</td>\n",
       "      <td>0.0</td>\n",
       "      <td>Sabih Unhearfus</td>\n",
       "    </tr>\n",
       "    <tr>\n",
       "      <th>3</th>\n",
       "      <td>0021_01</td>\n",
       "      <td>Europa</td>\n",
       "      <td>False</td>\n",
       "      <td>C/1/S</td>\n",
       "      <td>TRAPPIST-1e</td>\n",
       "      <td>38.0</td>\n",
       "      <td>False</td>\n",
       "      <td>0.0</td>\n",
       "      <td>6652.0</td>\n",
       "      <td>0.0</td>\n",
       "      <td>181.0</td>\n",
       "      <td>585.0</td>\n",
       "      <td>Meratz Caltilter</td>\n",
       "    </tr>\n",
       "    <tr>\n",
       "      <th>4</th>\n",
       "      <td>0023_01</td>\n",
       "      <td>Earth</td>\n",
       "      <td>False</td>\n",
       "      <td>F/5/S</td>\n",
       "      <td>TRAPPIST-1e</td>\n",
       "      <td>20.0</td>\n",
       "      <td>False</td>\n",
       "      <td>10.0</td>\n",
       "      <td>0.0</td>\n",
       "      <td>635.0</td>\n",
       "      <td>0.0</td>\n",
       "      <td>0.0</td>\n",
       "      <td>Brence Harperez</td>\n",
       "    </tr>\n",
       "  </tbody>\n",
       "</table>\n",
       "</div>"
      ],
      "text/plain": [
       "  PassengerId HomePlanet CryoSleep  Cabin  Destination   Age    VIP  \\\n",
       "0     0013_01      Earth      True  G/3/S  TRAPPIST-1e  27.0  False   \n",
       "1     0018_01      Earth     False  F/4/S  TRAPPIST-1e  19.0  False   \n",
       "2     0019_01     Europa      True  C/0/S  55 Cancri e  31.0  False   \n",
       "3     0021_01     Europa     False  C/1/S  TRAPPIST-1e  38.0  False   \n",
       "4     0023_01      Earth     False  F/5/S  TRAPPIST-1e  20.0  False   \n",
       "\n",
       "   RoomService  FoodCourt  ShoppingMall     Spa  VRDeck              Name  \n",
       "0          0.0        0.0           0.0     0.0     0.0   Nelly Carsoning  \n",
       "1          0.0        9.0           0.0  2823.0     0.0    Lerome Peckers  \n",
       "2          0.0        0.0           0.0     0.0     0.0   Sabih Unhearfus  \n",
       "3          0.0     6652.0           0.0   181.0   585.0  Meratz Caltilter  \n",
       "4         10.0        0.0         635.0     0.0     0.0   Brence Harperez  "
      ]
     },
     "execution_count": 29,
     "metadata": {},
     "output_type": "execute_result"
    }
   ],
   "source": [
    "test = pd.read_csv('/kaggle/input/spaceship-titanic/test.csv')\n",
    "test.head()"
   ]
  },
  {
   "cell_type": "code",
   "execution_count": 30,
   "id": "5322632d",
   "metadata": {
    "execution": {
     "iopub.execute_input": "2023-09-28T21:11:46.167120Z",
     "iopub.status.busy": "2023-09-28T21:11:46.166721Z",
     "iopub.status.idle": "2023-09-28T21:11:46.186116Z",
     "shell.execute_reply": "2023-09-28T21:11:46.184989Z"
    },
    "papermill": {
     "duration": 0.046212,
     "end_time": "2023-09-28T21:11:46.188507",
     "exception": false,
     "start_time": "2023-09-28T21:11:46.142295",
     "status": "completed"
    },
    "tags": []
   },
   "outputs": [
    {
     "data": {
      "text/plain": [
       "PassengerId       0\n",
       "HomePlanet       87\n",
       "CryoSleep        93\n",
       "Cabin           100\n",
       "Destination      92\n",
       "Age              91\n",
       "VIP              93\n",
       "RoomService      82\n",
       "FoodCourt       106\n",
       "ShoppingMall     98\n",
       "Spa             101\n",
       "VRDeck           80\n",
       "Name             94\n",
       "dtype: int64"
      ]
     },
     "execution_count": 30,
     "metadata": {},
     "output_type": "execute_result"
    }
   ],
   "source": [
    "test.isna().sum()"
   ]
  },
  {
   "cell_type": "code",
   "execution_count": 31,
   "id": "69ebb14b",
   "metadata": {
    "execution": {
     "iopub.execute_input": "2023-09-28T21:11:46.237179Z",
     "iopub.status.busy": "2023-09-28T21:11:46.236737Z",
     "iopub.status.idle": "2023-09-28T21:11:46.252238Z",
     "shell.execute_reply": "2023-09-28T21:11:46.251448Z"
    },
    "papermill": {
     "duration": 0.042365,
     "end_time": "2023-09-28T21:11:46.254346",
     "exception": false,
     "start_time": "2023-09-28T21:11:46.211981",
     "status": "completed"
    },
    "tags": []
   },
   "outputs": [],
   "source": [
    "lst = ['HomePlanet', 'CryoSleep', 'Destination', 'VIP']\n",
    "for col in lst:\n",
    "    test[col].fillna(test[col].mode()[0], inplace=True)"
   ]
  },
  {
   "cell_type": "code",
   "execution_count": 32,
   "id": "091537ce",
   "metadata": {
    "execution": {
     "iopub.execute_input": "2023-09-28T21:11:46.302613Z",
     "iopub.status.busy": "2023-09-28T21:11:46.302131Z",
     "iopub.status.idle": "2023-09-28T21:11:46.309831Z",
     "shell.execute_reply": "2023-09-28T21:11:46.308752Z"
    },
    "papermill": {
     "duration": 0.034679,
     "end_time": "2023-09-28T21:11:46.312098",
     "exception": false,
     "start_time": "2023-09-28T21:11:46.277419",
     "status": "completed"
    },
    "tags": []
   },
   "outputs": [],
   "source": [
    "test['Cabin'].fillna(method='ffill', inplace=True)"
   ]
  },
  {
   "cell_type": "code",
   "execution_count": 33,
   "id": "4267a3ab",
   "metadata": {
    "execution": {
     "iopub.execute_input": "2023-09-28T21:11:46.361018Z",
     "iopub.status.busy": "2023-09-28T21:11:46.360608Z",
     "iopub.status.idle": "2023-09-28T21:11:46.374031Z",
     "shell.execute_reply": "2023-09-28T21:11:46.372883Z"
    },
    "papermill": {
     "duration": 0.040873,
     "end_time": "2023-09-28T21:11:46.376560",
     "exception": false,
     "start_time": "2023-09-28T21:11:46.335687",
     "status": "completed"
    },
    "tags": []
   },
   "outputs": [],
   "source": [
    "### fill age by mean\n",
    "test['Age'].fillna(test['Age'].mean(), inplace=True)\n",
    "\n",
    "### fill RoomService, FoodCourt,ShoppingMall, Spa, VRDeck by median\n",
    "test['RoomService'].fillna(test['RoomService'].median(), inplace=True)\n",
    "test['FoodCourt'].fillna(test['FoodCourt'].median(), inplace=True)\n",
    "test['ShoppingMall'].fillna(test['ShoppingMall'].median(), inplace=True)\n",
    "test['Spa'].fillna(test['Spa'].median(), inplace=True)\n",
    "test['VRDeck'].fillna(test['VRDeck'].median(), inplace=True)"
   ]
  },
  {
   "cell_type": "code",
   "execution_count": 34,
   "id": "0a1f259c",
   "metadata": {
    "execution": {
     "iopub.execute_input": "2023-09-28T21:11:46.425634Z",
     "iopub.status.busy": "2023-09-28T21:11:46.425190Z",
     "iopub.status.idle": "2023-09-28T21:11:46.436101Z",
     "shell.execute_reply": "2023-09-28T21:11:46.434977Z"
    },
    "papermill": {
     "duration": 0.038329,
     "end_time": "2023-09-28T21:11:46.438574",
     "exception": false,
     "start_time": "2023-09-28T21:11:46.400245",
     "status": "completed"
    },
    "tags": []
   },
   "outputs": [],
   "source": [
    "col_encoding = ['HomePlanet', 'Destination', 'VIP']\n",
    "for col in col_encoding:\n",
    "    if col in test.columns:\n",
    "        test[col] = le.fit_transform(test[col])\n",
    "\n"
   ]
  },
  {
   "cell_type": "code",
   "execution_count": 35,
   "id": "614e03d4",
   "metadata": {
    "execution": {
     "iopub.execute_input": "2023-09-28T21:11:46.487564Z",
     "iopub.status.busy": "2023-09-28T21:11:46.487108Z",
     "iopub.status.idle": "2023-09-28T21:11:46.498194Z",
     "shell.execute_reply": "2023-09-28T21:11:46.497010Z"
    },
    "papermill": {
     "duration": 0.038327,
     "end_time": "2023-09-28T21:11:46.500590",
     "exception": false,
     "start_time": "2023-09-28T21:11:46.462263",
     "status": "completed"
    },
    "tags": []
   },
   "outputs": [
    {
     "data": {
      "text/plain": [
       "0       0.0\n",
       "1    2832.0\n",
       "2       0.0\n",
       "3    7418.0\n",
       "4     645.0\n",
       "Name: TotalAmount, dtype: float64"
      ]
     },
     "execution_count": 35,
     "metadata": {},
     "output_type": "execute_result"
    }
   ],
   "source": [
    "### add new col -> total amount the passenger has billed  -> sum of [RoomService, FoodCourt, ShoppingMall, Spa, VRDeck]\n",
    "test['TotalAmount'] = test['RoomService'] + test['FoodCourt'] + test['ShoppingMall'] + test['Spa'] + test['VRDeck']\n",
    "test['TotalAmount'].head()"
   ]
  },
  {
   "cell_type": "code",
   "execution_count": 36,
   "id": "d55938bc",
   "metadata": {
    "execution": {
     "iopub.execute_input": "2023-09-28T21:11:46.549969Z",
     "iopub.status.busy": "2023-09-28T21:11:46.549595Z",
     "iopub.status.idle": "2023-09-28T21:11:46.566566Z",
     "shell.execute_reply": "2023-09-28T21:11:46.565285Z"
    },
    "papermill": {
     "duration": 0.043726,
     "end_time": "2023-09-28T21:11:46.568717",
     "exception": false,
     "start_time": "2023-09-28T21:11:46.524991",
     "status": "completed"
    },
    "tags": []
   },
   "outputs": [],
   "source": [
    "test['Cabin_deck'] = test['Cabin'].apply(lambda x:x.split('/')[0])\n",
    "test['Cabin_num'] = test['Cabin'].apply(lambda x:x.split('/')[1]).astype(np.number)\n",
    "test['Cabin_side'] = test['Cabin'].apply(lambda x:x.split('/')[2])"
   ]
  },
  {
   "cell_type": "code",
   "execution_count": 37,
   "id": "8f68daf1",
   "metadata": {
    "execution": {
     "iopub.execute_input": "2023-09-28T21:11:46.617558Z",
     "iopub.status.busy": "2023-09-28T21:11:46.617137Z",
     "iopub.status.idle": "2023-09-28T21:11:46.623537Z",
     "shell.execute_reply": "2023-09-28T21:11:46.622530Z"
    },
    "papermill": {
     "duration": 0.033323,
     "end_time": "2023-09-28T21:11:46.625612",
     "exception": false,
     "start_time": "2023-09-28T21:11:46.592289",
     "status": "completed"
    },
    "tags": []
   },
   "outputs": [],
   "source": [
    "test['IsAdult'] = np.where(test['Age'] < 19, 0, 1)"
   ]
  },
  {
   "cell_type": "code",
   "execution_count": 38,
   "id": "450d7ca6",
   "metadata": {
    "execution": {
     "iopub.execute_input": "2023-09-28T21:11:46.674542Z",
     "iopub.status.busy": "2023-09-28T21:11:46.674086Z",
     "iopub.status.idle": "2023-09-28T21:11:46.679910Z",
     "shell.execute_reply": "2023-09-28T21:11:46.678807Z"
    },
    "papermill": {
     "duration": 0.032648,
     "end_time": "2023-09-28T21:11:46.682083",
     "exception": false,
     "start_time": "2023-09-28T21:11:46.649435",
     "status": "completed"
    },
    "tags": []
   },
   "outputs": [],
   "source": [
    "test['CryoSleep'] = test['CryoSleep'].astype(int)"
   ]
  },
  {
   "cell_type": "code",
   "execution_count": 39,
   "id": "c35da3c1",
   "metadata": {
    "execution": {
     "iopub.execute_input": "2023-09-28T21:11:46.730311Z",
     "iopub.status.busy": "2023-09-28T21:11:46.729921Z",
     "iopub.status.idle": "2023-09-28T21:11:46.735121Z",
     "shell.execute_reply": "2023-09-28T21:11:46.733948Z"
    },
    "papermill": {
     "duration": 0.032037,
     "end_time": "2023-09-28T21:11:46.737539",
     "exception": false,
     "start_time": "2023-09-28T21:11:46.705502",
     "status": "completed"
    },
    "tags": []
   },
   "outputs": [],
   "source": [
    "passengerId = test['PassengerId']"
   ]
  },
  {
   "cell_type": "code",
   "execution_count": 40,
   "id": "c14507cd",
   "metadata": {
    "execution": {
     "iopub.execute_input": "2023-09-28T21:11:46.786343Z",
     "iopub.status.busy": "2023-09-28T21:11:46.785949Z",
     "iopub.status.idle": "2023-09-28T21:11:46.886568Z",
     "shell.execute_reply": "2023-09-28T21:11:46.885623Z"
    },
    "papermill": {
     "duration": 0.127957,
     "end_time": "2023-09-28T21:11:46.889178",
     "exception": false,
     "start_time": "2023-09-28T21:11:46.761221",
     "status": "completed"
    },
    "tags": []
   },
   "outputs": [],
   "source": [
    "X2 = test.drop(['PassengerId', 'Name', 'Cabin_deck', 'Cabin_side', 'Cabin'], axis=1)\n",
    "\n",
    "y_pred_rfc = rfc.predict(X2)"
   ]
  },
  {
   "cell_type": "markdown",
   "id": "5e415386",
   "metadata": {
    "papermill": {
     "duration": 0.023022,
     "end_time": "2023-09-28T21:11:46.935783",
     "exception": false,
     "start_time": "2023-09-28T21:11:46.912761",
     "status": "completed"
    },
    "tags": []
   },
   "source": [
    "## CatBoostClassifier model"
   ]
  },
  {
   "cell_type": "code",
   "execution_count": 41,
   "id": "02118086",
   "metadata": {
    "execution": {
     "iopub.execute_input": "2023-09-28T21:11:46.983564Z",
     "iopub.status.busy": "2023-09-28T21:11:46.983142Z",
     "iopub.status.idle": "2023-09-28T21:11:51.336969Z",
     "shell.execute_reply": "2023-09-28T21:11:51.335615Z"
    },
    "papermill": {
     "duration": 4.38039,
     "end_time": "2023-09-28T21:11:51.339309",
     "exception": false,
     "start_time": "2023-09-28T21:11:46.958919",
     "status": "completed"
    },
    "tags": []
   },
   "outputs": [
    {
     "name": "stdout",
     "output_type": "stream",
     "text": [
      "0:\tlearn: 0.6776973\ttotal: 57.9ms\tremaining: 57.9s\n",
      "100:\tlearn: 0.4263001\ttotal: 418ms\tremaining: 3.72s\n",
      "200:\tlearn: 0.3988529\ttotal: 788ms\tremaining: 3.13s\n",
      "300:\tlearn: 0.3822409\ttotal: 1.15s\tremaining: 2.67s\n",
      "400:\tlearn: 0.3664641\ttotal: 1.52s\tremaining: 2.27s\n",
      "500:\tlearn: 0.3520645\ttotal: 1.89s\tremaining: 1.88s\n",
      "600:\tlearn: 0.3385202\ttotal: 2.25s\tremaining: 1.49s\n",
      "700:\tlearn: 0.3264210\ttotal: 2.62s\tremaining: 1.11s\n",
      "800:\tlearn: 0.3151633\ttotal: 2.98s\tremaining: 740ms\n",
      "900:\tlearn: 0.3049783\ttotal: 3.35s\tremaining: 368ms\n",
      "999:\tlearn: 0.2958720\ttotal: 3.71s\tremaining: 0us\n"
     ]
    }
   ],
   "source": [
    "from catboost import CatBoostClassifier\n",
    "# from sklearn.model_selection import GridSearchCV\n",
    "\n",
    "new_cbc = CatBoostClassifier(learning_rate=0.03, l2_leaf_reg=3, depth=6, metric_period=100)\n",
    "new_cbc.fit(x_train, y_train)\n",
    "y_pred = new_cbc.predict(X2)\n",
    "y_pred = y_pred.astype(bool)"
   ]
  },
  {
   "cell_type": "code",
   "execution_count": 42,
   "id": "703c0890",
   "metadata": {
    "execution": {
     "iopub.execute_input": "2023-09-28T21:11:51.389938Z",
     "iopub.status.busy": "2023-09-28T21:11:51.389553Z",
     "iopub.status.idle": "2023-09-28T21:11:51.409710Z",
     "shell.execute_reply": "2023-09-28T21:11:51.408476Z"
    },
    "papermill": {
     "duration": 0.048675,
     "end_time": "2023-09-28T21:11:51.412411",
     "exception": false,
     "start_time": "2023-09-28T21:11:51.363736",
     "status": "completed"
    },
    "tags": []
   },
   "outputs": [],
   "source": [
    "sub_file = pd.DataFrame({'PassengerId': test.PassengerId, 'Transported': y_pred})\n",
    "sub_file.to_csv('submission.csv', index=False)"
   ]
  },
  {
   "cell_type": "code",
   "execution_count": null,
   "id": "fe52a2b9",
   "metadata": {
    "papermill": {
     "duration": 0.023868,
     "end_time": "2023-09-28T21:11:51.460856",
     "exception": false,
     "start_time": "2023-09-28T21:11:51.436988",
     "status": "completed"
    },
    "tags": []
   },
   "outputs": [],
   "source": []
  }
 ],
 "metadata": {
  "kernelspec": {
   "display_name": "Python 3",
   "language": "python",
   "name": "python3"
  },
  "language_info": {
   "codemirror_mode": {
    "name": "ipython",
    "version": 3
   },
   "file_extension": ".py",
   "mimetype": "text/x-python",
   "name": "python",
   "nbconvert_exporter": "python",
   "pygments_lexer": "ipython3",
   "version": "3.10.12"
  },
  "papermill": {
   "default_parameters": {},
   "duration": 28.31286,
   "end_time": "2023-09-28T21:11:52.612419",
   "environment_variables": {},
   "exception": null,
   "input_path": "__notebook__.ipynb",
   "output_path": "__notebook__.ipynb",
   "parameters": {},
   "start_time": "2023-09-28T21:11:24.299559",
   "version": "2.4.0"
  }
 },
 "nbformat": 4,
 "nbformat_minor": 5
}
